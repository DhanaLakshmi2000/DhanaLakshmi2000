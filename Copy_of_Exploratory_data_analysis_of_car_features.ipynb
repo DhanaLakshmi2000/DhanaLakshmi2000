{
  "nbformat": 4,
  "nbformat_minor": 0,
  "metadata": {
    "colab": {
      "name": "Copy of Exploratory_data_analysis_of_car_features",
      "provenance": [],
      "collapsed_sections": [],
      "toc_visible": true,
      "authorship_tag": "ABX9TyNJ0pkxB4UP3cmrKH4SJMRy",
      "include_colab_link": true
    },
    "kernelspec": {
      "name": "python3",
      "display_name": "Python 3"
    }
  },
  "cells": [
    {
      "cell_type": "markdown",
      "metadata": {
        "id": "view-in-github",
        "colab_type": "text"
      },
      "source": [
        "<a href=\"https://colab.research.google.com/github/DhanaLakshmi2000/DhanaLakshmi2000/blob/master/Copy_of_Exploratory_data_analysis_of_car_features.ipynb\" target=\"_parent\"><img src=\"https://colab.research.google.com/assets/colab-badge.svg\" alt=\"Open In Colab\"/></a>"
      ]
    },
    {
      "cell_type": "markdown",
      "metadata": {
        "id": "VT44ytPGPTXg",
        "colab_type": "text"
      },
      "source": [
        "#1. importing libraries which are required for EDA"
      ]
    },
    {
      "cell_type": "code",
      "metadata": {
        "id": "jj-MP-G2PAbl",
        "colab_type": "code",
        "colab": {}
      },
      "source": [
        "import pandas as pd\n",
        "import numpy as np\n",
        "import seaborn as sns              #visualization\n",
        "import matplotlib.pyplot as plt    #visualization\n",
        "%matplotlib inline"
      ],
      "execution_count": 120,
      "outputs": []
    },
    {
      "cell_type": "markdown",
      "metadata": {
        "id": "JKle9qqORDxk",
        "colab_type": "text"
      },
      "source": [
        "**1.1 Loading the data into the dataframe**"
      ]
    },
    {
      "cell_type": "code",
      "metadata": {
        "id": "GqsRzEaYRikh",
        "colab_type": "code",
        "colab": {}
      },
      "source": [
        "dataframe=pd.read_csv('data.csv')"
      ],
      "execution_count": 121,
      "outputs": []
    },
    {
      "cell_type": "code",
      "metadata": {
        "id": "RNqj2kB4WBnr",
        "colab_type": "code",
        "colab": {
          "base_uri": "https://localhost:8080/",
          "height": 425
        },
        "outputId": "fe5cecf3-7a70-4f20-bf7c-a049dddae472"
      },
      "source": [
        "#displaying the top 5 rows\n",
        "dataframe.head()"
      ],
      "execution_count": 122,
      "outputs": [
        {
          "output_type": "execute_result",
          "data": {
            "text/html": [
              "<div>\n",
              "<style scoped>\n",
              "    .dataframe tbody tr th:only-of-type {\n",
              "        vertical-align: middle;\n",
              "    }\n",
              "\n",
              "    .dataframe tbody tr th {\n",
              "        vertical-align: top;\n",
              "    }\n",
              "\n",
              "    .dataframe thead th {\n",
              "        text-align: right;\n",
              "    }\n",
              "</style>\n",
              "<table border=\"1\" class=\"dataframe\">\n",
              "  <thead>\n",
              "    <tr style=\"text-align: right;\">\n",
              "      <th></th>\n",
              "      <th>Make</th>\n",
              "      <th>Model</th>\n",
              "      <th>Year</th>\n",
              "      <th>Engine Fuel Type</th>\n",
              "      <th>Engine HP</th>\n",
              "      <th>Engine Cylinders</th>\n",
              "      <th>Transmission Type</th>\n",
              "      <th>Driven_Wheels</th>\n",
              "      <th>Number of Doors</th>\n",
              "      <th>Market Category</th>\n",
              "      <th>Vehicle Size</th>\n",
              "      <th>Vehicle Style</th>\n",
              "      <th>highway MPG</th>\n",
              "      <th>city mpg</th>\n",
              "      <th>Popularity</th>\n",
              "      <th>MSRP</th>\n",
              "    </tr>\n",
              "  </thead>\n",
              "  <tbody>\n",
              "    <tr>\n",
              "      <th>0</th>\n",
              "      <td>BMW</td>\n",
              "      <td>1 Series M</td>\n",
              "      <td>2011</td>\n",
              "      <td>premium unleaded (required)</td>\n",
              "      <td>335.0</td>\n",
              "      <td>6.0</td>\n",
              "      <td>MANUAL</td>\n",
              "      <td>rear wheel drive</td>\n",
              "      <td>2.0</td>\n",
              "      <td>Factory Tuner,Luxury,High-Performance</td>\n",
              "      <td>Compact</td>\n",
              "      <td>Coupe</td>\n",
              "      <td>26</td>\n",
              "      <td>19</td>\n",
              "      <td>3916</td>\n",
              "      <td>46135</td>\n",
              "    </tr>\n",
              "    <tr>\n",
              "      <th>1</th>\n",
              "      <td>BMW</td>\n",
              "      <td>1 Series</td>\n",
              "      <td>2011</td>\n",
              "      <td>premium unleaded (required)</td>\n",
              "      <td>300.0</td>\n",
              "      <td>6.0</td>\n",
              "      <td>MANUAL</td>\n",
              "      <td>rear wheel drive</td>\n",
              "      <td>2.0</td>\n",
              "      <td>Luxury,Performance</td>\n",
              "      <td>Compact</td>\n",
              "      <td>Convertible</td>\n",
              "      <td>28</td>\n",
              "      <td>19</td>\n",
              "      <td>3916</td>\n",
              "      <td>40650</td>\n",
              "    </tr>\n",
              "    <tr>\n",
              "      <th>2</th>\n",
              "      <td>BMW</td>\n",
              "      <td>1 Series</td>\n",
              "      <td>2011</td>\n",
              "      <td>premium unleaded (required)</td>\n",
              "      <td>300.0</td>\n",
              "      <td>6.0</td>\n",
              "      <td>MANUAL</td>\n",
              "      <td>rear wheel drive</td>\n",
              "      <td>2.0</td>\n",
              "      <td>Luxury,High-Performance</td>\n",
              "      <td>Compact</td>\n",
              "      <td>Coupe</td>\n",
              "      <td>28</td>\n",
              "      <td>20</td>\n",
              "      <td>3916</td>\n",
              "      <td>36350</td>\n",
              "    </tr>\n",
              "    <tr>\n",
              "      <th>3</th>\n",
              "      <td>BMW</td>\n",
              "      <td>1 Series</td>\n",
              "      <td>2011</td>\n",
              "      <td>premium unleaded (required)</td>\n",
              "      <td>230.0</td>\n",
              "      <td>6.0</td>\n",
              "      <td>MANUAL</td>\n",
              "      <td>rear wheel drive</td>\n",
              "      <td>2.0</td>\n",
              "      <td>Luxury,Performance</td>\n",
              "      <td>Compact</td>\n",
              "      <td>Coupe</td>\n",
              "      <td>28</td>\n",
              "      <td>18</td>\n",
              "      <td>3916</td>\n",
              "      <td>29450</td>\n",
              "    </tr>\n",
              "    <tr>\n",
              "      <th>4</th>\n",
              "      <td>BMW</td>\n",
              "      <td>1 Series</td>\n",
              "      <td>2011</td>\n",
              "      <td>premium unleaded (required)</td>\n",
              "      <td>230.0</td>\n",
              "      <td>6.0</td>\n",
              "      <td>MANUAL</td>\n",
              "      <td>rear wheel drive</td>\n",
              "      <td>2.0</td>\n",
              "      <td>Luxury</td>\n",
              "      <td>Compact</td>\n",
              "      <td>Convertible</td>\n",
              "      <td>28</td>\n",
              "      <td>18</td>\n",
              "      <td>3916</td>\n",
              "      <td>34500</td>\n",
              "    </tr>\n",
              "  </tbody>\n",
              "</table>\n",
              "</div>"
            ],
            "text/plain": [
              "  Make       Model  Year  ... city mpg  Popularity   MSRP\n",
              "0  BMW  1 Series M  2011  ...       19        3916  46135\n",
              "1  BMW    1 Series  2011  ...       19        3916  40650\n",
              "2  BMW    1 Series  2011  ...       20        3916  36350\n",
              "3  BMW    1 Series  2011  ...       18        3916  29450\n",
              "4  BMW    1 Series  2011  ...       18        3916  34500\n",
              "\n",
              "[5 rows x 16 columns]"
            ]
          },
          "metadata": {
            "tags": []
          },
          "execution_count": 122
        }
      ]
    },
    {
      "cell_type": "code",
      "metadata": {
        "id": "FJpkDMwCWTEZ",
        "colab_type": "code",
        "colab": {
          "base_uri": "https://localhost:8080/",
          "height": 408
        },
        "outputId": "f75f2e9a-3a88-455a-a450-d68b76916431"
      },
      "source": [
        "#displaying the last 5 rows\n",
        "dataframe.tail()"
      ],
      "execution_count": 123,
      "outputs": [
        {
          "output_type": "execute_result",
          "data": {
            "text/html": [
              "<div>\n",
              "<style scoped>\n",
              "    .dataframe tbody tr th:only-of-type {\n",
              "        vertical-align: middle;\n",
              "    }\n",
              "\n",
              "    .dataframe tbody tr th {\n",
              "        vertical-align: top;\n",
              "    }\n",
              "\n",
              "    .dataframe thead th {\n",
              "        text-align: right;\n",
              "    }\n",
              "</style>\n",
              "<table border=\"1\" class=\"dataframe\">\n",
              "  <thead>\n",
              "    <tr style=\"text-align: right;\">\n",
              "      <th></th>\n",
              "      <th>Make</th>\n",
              "      <th>Model</th>\n",
              "      <th>Year</th>\n",
              "      <th>Engine Fuel Type</th>\n",
              "      <th>Engine HP</th>\n",
              "      <th>Engine Cylinders</th>\n",
              "      <th>Transmission Type</th>\n",
              "      <th>Driven_Wheels</th>\n",
              "      <th>Number of Doors</th>\n",
              "      <th>Market Category</th>\n",
              "      <th>Vehicle Size</th>\n",
              "      <th>Vehicle Style</th>\n",
              "      <th>highway MPG</th>\n",
              "      <th>city mpg</th>\n",
              "      <th>Popularity</th>\n",
              "      <th>MSRP</th>\n",
              "    </tr>\n",
              "  </thead>\n",
              "  <tbody>\n",
              "    <tr>\n",
              "      <th>11909</th>\n",
              "      <td>Acura</td>\n",
              "      <td>ZDX</td>\n",
              "      <td>2012</td>\n",
              "      <td>premium unleaded (required)</td>\n",
              "      <td>300.0</td>\n",
              "      <td>6.0</td>\n",
              "      <td>AUTOMATIC</td>\n",
              "      <td>all wheel drive</td>\n",
              "      <td>4.0</td>\n",
              "      <td>Crossover,Hatchback,Luxury</td>\n",
              "      <td>Midsize</td>\n",
              "      <td>4dr Hatchback</td>\n",
              "      <td>23</td>\n",
              "      <td>16</td>\n",
              "      <td>204</td>\n",
              "      <td>46120</td>\n",
              "    </tr>\n",
              "    <tr>\n",
              "      <th>11910</th>\n",
              "      <td>Acura</td>\n",
              "      <td>ZDX</td>\n",
              "      <td>2012</td>\n",
              "      <td>premium unleaded (required)</td>\n",
              "      <td>300.0</td>\n",
              "      <td>6.0</td>\n",
              "      <td>AUTOMATIC</td>\n",
              "      <td>all wheel drive</td>\n",
              "      <td>4.0</td>\n",
              "      <td>Crossover,Hatchback,Luxury</td>\n",
              "      <td>Midsize</td>\n",
              "      <td>4dr Hatchback</td>\n",
              "      <td>23</td>\n",
              "      <td>16</td>\n",
              "      <td>204</td>\n",
              "      <td>56670</td>\n",
              "    </tr>\n",
              "    <tr>\n",
              "      <th>11911</th>\n",
              "      <td>Acura</td>\n",
              "      <td>ZDX</td>\n",
              "      <td>2012</td>\n",
              "      <td>premium unleaded (required)</td>\n",
              "      <td>300.0</td>\n",
              "      <td>6.0</td>\n",
              "      <td>AUTOMATIC</td>\n",
              "      <td>all wheel drive</td>\n",
              "      <td>4.0</td>\n",
              "      <td>Crossover,Hatchback,Luxury</td>\n",
              "      <td>Midsize</td>\n",
              "      <td>4dr Hatchback</td>\n",
              "      <td>23</td>\n",
              "      <td>16</td>\n",
              "      <td>204</td>\n",
              "      <td>50620</td>\n",
              "    </tr>\n",
              "    <tr>\n",
              "      <th>11912</th>\n",
              "      <td>Acura</td>\n",
              "      <td>ZDX</td>\n",
              "      <td>2013</td>\n",
              "      <td>premium unleaded (recommended)</td>\n",
              "      <td>300.0</td>\n",
              "      <td>6.0</td>\n",
              "      <td>AUTOMATIC</td>\n",
              "      <td>all wheel drive</td>\n",
              "      <td>4.0</td>\n",
              "      <td>Crossover,Hatchback,Luxury</td>\n",
              "      <td>Midsize</td>\n",
              "      <td>4dr Hatchback</td>\n",
              "      <td>23</td>\n",
              "      <td>16</td>\n",
              "      <td>204</td>\n",
              "      <td>50920</td>\n",
              "    </tr>\n",
              "    <tr>\n",
              "      <th>11913</th>\n",
              "      <td>Lincoln</td>\n",
              "      <td>Zephyr</td>\n",
              "      <td>2006</td>\n",
              "      <td>regular unleaded</td>\n",
              "      <td>221.0</td>\n",
              "      <td>6.0</td>\n",
              "      <td>AUTOMATIC</td>\n",
              "      <td>front wheel drive</td>\n",
              "      <td>4.0</td>\n",
              "      <td>Luxury</td>\n",
              "      <td>Midsize</td>\n",
              "      <td>Sedan</td>\n",
              "      <td>26</td>\n",
              "      <td>17</td>\n",
              "      <td>61</td>\n",
              "      <td>28995</td>\n",
              "    </tr>\n",
              "  </tbody>\n",
              "</table>\n",
              "</div>"
            ],
            "text/plain": [
              "          Make   Model  Year  ... city mpg  Popularity   MSRP\n",
              "11909    Acura     ZDX  2012  ...       16         204  46120\n",
              "11910    Acura     ZDX  2012  ...       16         204  56670\n",
              "11911    Acura     ZDX  2012  ...       16         204  50620\n",
              "11912    Acura     ZDX  2013  ...       16         204  50920\n",
              "11913  Lincoln  Zephyr  2006  ...       17          61  28995\n",
              "\n",
              "[5 rows x 16 columns]"
            ]
          },
          "metadata": {
            "tags": []
          },
          "execution_count": 123
        }
      ]
    },
    {
      "cell_type": "markdown",
      "metadata": {
        "id": "yvDIxsfmWxVd",
        "colab_type": "text"
      },
      "source": [
        "**1.2 cheking the datatypes and basic summary of the stats**\n",
        " \n",
        "we need to check for the datatypes because sometimes the datatype of MSRP or the price of the car would be stored as a string.If in that case we have to convert that string to an integer data only then we can plot the data via a graph.here in this case,the data is already in integer format"
      ]
    },
    {
      "cell_type": "code",
      "metadata": {
        "id": "u7b_8wDJWsik",
        "colab_type": "code",
        "colab": {
          "base_uri": "https://localhost:8080/",
          "height": 435
        },
        "outputId": "a02c16e7-e718-47e6-9ef8-f487bef1c1b0"
      },
      "source": [
        "#cheking datatypes\n",
        "dataframe.info()"
      ],
      "execution_count": 124,
      "outputs": [
        {
          "output_type": "stream",
          "text": [
            "<class 'pandas.core.frame.DataFrame'>\n",
            "RangeIndex: 11914 entries, 0 to 11913\n",
            "Data columns (total 16 columns):\n",
            " #   Column             Non-Null Count  Dtype  \n",
            "---  ------             --------------  -----  \n",
            " 0   Make               11914 non-null  object \n",
            " 1   Model              11914 non-null  object \n",
            " 2   Year               11914 non-null  int64  \n",
            " 3   Engine Fuel Type   11911 non-null  object \n",
            " 4   Engine HP          11845 non-null  float64\n",
            " 5   Engine Cylinders   11884 non-null  float64\n",
            " 6   Transmission Type  11914 non-null  object \n",
            " 7   Driven_Wheels      11914 non-null  object \n",
            " 8   Number of Doors    11908 non-null  float64\n",
            " 9   Market Category    8172 non-null   object \n",
            " 10  Vehicle Size       11914 non-null  object \n",
            " 11  Vehicle Style      11914 non-null  object \n",
            " 12  highway MPG        11914 non-null  int64  \n",
            " 13  city mpg           11914 non-null  int64  \n",
            " 14  Popularity         11914 non-null  int64  \n",
            " 15  MSRP               11914 non-null  int64  \n",
            "dtypes: float64(3), int64(5), object(8)\n",
            "memory usage: 1.5+ MB\n"
          ],
          "name": "stdout"
        }
      ]
    },
    {
      "cell_type": "code",
      "metadata": {
        "id": "-Mpu2hPUYyZc",
        "colab_type": "code",
        "colab": {
          "base_uri": "https://localhost:8080/",
          "height": 325
        },
        "outputId": "4210a20d-9dd6-4f4d-f56b-bc268872a620"
      },
      "source": [
        "#finding the some basics of summary stats\n",
        "dataframe.describe()"
      ],
      "execution_count": 125,
      "outputs": [
        {
          "output_type": "execute_result",
          "data": {
            "text/html": [
              "<div>\n",
              "<style scoped>\n",
              "    .dataframe tbody tr th:only-of-type {\n",
              "        vertical-align: middle;\n",
              "    }\n",
              "\n",
              "    .dataframe tbody tr th {\n",
              "        vertical-align: top;\n",
              "    }\n",
              "\n",
              "    .dataframe thead th {\n",
              "        text-align: right;\n",
              "    }\n",
              "</style>\n",
              "<table border=\"1\" class=\"dataframe\">\n",
              "  <thead>\n",
              "    <tr style=\"text-align: right;\">\n",
              "      <th></th>\n",
              "      <th>Year</th>\n",
              "      <th>Engine HP</th>\n",
              "      <th>Engine Cylinders</th>\n",
              "      <th>Number of Doors</th>\n",
              "      <th>highway MPG</th>\n",
              "      <th>city mpg</th>\n",
              "      <th>Popularity</th>\n",
              "      <th>MSRP</th>\n",
              "    </tr>\n",
              "  </thead>\n",
              "  <tbody>\n",
              "    <tr>\n",
              "      <th>count</th>\n",
              "      <td>11914.000000</td>\n",
              "      <td>11845.00000</td>\n",
              "      <td>11884.000000</td>\n",
              "      <td>11908.000000</td>\n",
              "      <td>11914.000000</td>\n",
              "      <td>11914.000000</td>\n",
              "      <td>11914.000000</td>\n",
              "      <td>1.191400e+04</td>\n",
              "    </tr>\n",
              "    <tr>\n",
              "      <th>mean</th>\n",
              "      <td>2010.384338</td>\n",
              "      <td>249.38607</td>\n",
              "      <td>5.628829</td>\n",
              "      <td>3.436093</td>\n",
              "      <td>26.637485</td>\n",
              "      <td>19.733255</td>\n",
              "      <td>1554.911197</td>\n",
              "      <td>4.059474e+04</td>\n",
              "    </tr>\n",
              "    <tr>\n",
              "      <th>std</th>\n",
              "      <td>7.579740</td>\n",
              "      <td>109.19187</td>\n",
              "      <td>1.780559</td>\n",
              "      <td>0.881315</td>\n",
              "      <td>8.863001</td>\n",
              "      <td>8.987798</td>\n",
              "      <td>1441.855347</td>\n",
              "      <td>6.010910e+04</td>\n",
              "    </tr>\n",
              "    <tr>\n",
              "      <th>min</th>\n",
              "      <td>1990.000000</td>\n",
              "      <td>55.00000</td>\n",
              "      <td>0.000000</td>\n",
              "      <td>2.000000</td>\n",
              "      <td>12.000000</td>\n",
              "      <td>7.000000</td>\n",
              "      <td>2.000000</td>\n",
              "      <td>2.000000e+03</td>\n",
              "    </tr>\n",
              "    <tr>\n",
              "      <th>25%</th>\n",
              "      <td>2007.000000</td>\n",
              "      <td>170.00000</td>\n",
              "      <td>4.000000</td>\n",
              "      <td>2.000000</td>\n",
              "      <td>22.000000</td>\n",
              "      <td>16.000000</td>\n",
              "      <td>549.000000</td>\n",
              "      <td>2.100000e+04</td>\n",
              "    </tr>\n",
              "    <tr>\n",
              "      <th>50%</th>\n",
              "      <td>2015.000000</td>\n",
              "      <td>227.00000</td>\n",
              "      <td>6.000000</td>\n",
              "      <td>4.000000</td>\n",
              "      <td>26.000000</td>\n",
              "      <td>18.000000</td>\n",
              "      <td>1385.000000</td>\n",
              "      <td>2.999500e+04</td>\n",
              "    </tr>\n",
              "    <tr>\n",
              "      <th>75%</th>\n",
              "      <td>2016.000000</td>\n",
              "      <td>300.00000</td>\n",
              "      <td>6.000000</td>\n",
              "      <td>4.000000</td>\n",
              "      <td>30.000000</td>\n",
              "      <td>22.000000</td>\n",
              "      <td>2009.000000</td>\n",
              "      <td>4.223125e+04</td>\n",
              "    </tr>\n",
              "    <tr>\n",
              "      <th>max</th>\n",
              "      <td>2017.000000</td>\n",
              "      <td>1001.00000</td>\n",
              "      <td>16.000000</td>\n",
              "      <td>4.000000</td>\n",
              "      <td>354.000000</td>\n",
              "      <td>137.000000</td>\n",
              "      <td>5657.000000</td>\n",
              "      <td>2.065902e+06</td>\n",
              "    </tr>\n",
              "  </tbody>\n",
              "</table>\n",
              "</div>"
            ],
            "text/plain": [
              "               Year    Engine HP  ...    Popularity          MSRP\n",
              "count  11914.000000  11845.00000  ...  11914.000000  1.191400e+04\n",
              "mean    2010.384338    249.38607  ...   1554.911197  4.059474e+04\n",
              "std        7.579740    109.19187  ...   1441.855347  6.010910e+04\n",
              "min     1990.000000     55.00000  ...      2.000000  2.000000e+03\n",
              "25%     2007.000000    170.00000  ...    549.000000  2.100000e+04\n",
              "50%     2015.000000    227.00000  ...   1385.000000  2.999500e+04\n",
              "75%     2016.000000    300.00000  ...   2009.000000  4.223125e+04\n",
              "max     2017.000000   1001.00000  ...   5657.000000  2.065902e+06\n",
              "\n",
              "[8 rows x 8 columns]"
            ]
          },
          "metadata": {
            "tags": []
          },
          "execution_count": 125
        }
      ]
    },
    {
      "cell_type": "markdown",
      "metadata": {
        "id": "5sHuIEmsZXC8",
        "colab_type": "text"
      },
      "source": [
        "**1.3 checking for the null values and the shape**\n",
        "\n",
        "Here we will check whether there are any null values in the data so that we can impute them or remove them "
      ]
    },
    {
      "cell_type": "code",
      "metadata": {
        "id": "V7FlLHO-a0DL",
        "colab_type": "code",
        "colab": {
          "base_uri": "https://localhost:8080/",
          "height": 326
        },
        "outputId": "a1a6f8c6-10de-446f-cdca-82c29c22c4c4"
      },
      "source": [
        "#finding the number of null values in the specified csv file\n",
        "dataframe.isnull().sum()"
      ],
      "execution_count": 126,
      "outputs": [
        {
          "output_type": "execute_result",
          "data": {
            "text/plain": [
              "Make                    0\n",
              "Model                   0\n",
              "Year                    0\n",
              "Engine Fuel Type        3\n",
              "Engine HP              69\n",
              "Engine Cylinders       30\n",
              "Transmission Type       0\n",
              "Driven_Wheels           0\n",
              "Number of Doors         6\n",
              "Market Category      3742\n",
              "Vehicle Size            0\n",
              "Vehicle Style           0\n",
              "highway MPG             0\n",
              "city mpg                0\n",
              "Popularity              0\n",
              "MSRP                    0\n",
              "dtype: int64"
            ]
          },
          "metadata": {
            "tags": []
          },
          "execution_count": 126
        }
      ]
    },
    {
      "cell_type": "code",
      "metadata": {
        "id": "hnGsZhQ5a8Qm",
        "colab_type": "code",
        "colab": {
          "base_uri": "https://localhost:8080/",
          "height": 35
        },
        "outputId": "76b8e9ef-303f-4aa8-ee05-5f169f18a810"
      },
      "source": [
        "#finding the number of rows and columns of a dataframe in a tuple format\n",
        "dataframe.shape"
      ],
      "execution_count": 127,
      "outputs": [
        {
          "output_type": "execute_result",
          "data": {
            "text/plain": [
              "(11914, 16)"
            ]
          },
          "metadata": {
            "tags": []
          },
          "execution_count": 127
        }
      ]
    },
    {
      "cell_type": "markdown",
      "metadata": {
        "id": "8UGjAHCEbTPZ",
        "colab_type": "text"
      },
      "source": [
        "# 2.Dropping irrelavent columns\n",
        " \n",
        "We need to do this step because in EDA sometimes there would be column that we never use and in such cases dropping is useful.In this case,the columns such as Engine Fuel Type and Number of doors maynot be very relevant."
      ]
    },
    {
      "cell_type": "code",
      "metadata": {
        "id": "DlDNNFURf5gt",
        "colab_type": "code",
        "colab": {
          "base_uri": "https://localhost:8080/",
          "height": 339
        },
        "outputId": "5d0a5293-003c-4c3d-d69a-558224c29c1b"
      },
      "source": [
        "#dropping irrelavent columns\n",
        "dataframe = dataframe.drop(['Market Category','Engine Fuel Type','Number of Doors'],axis=1)\n",
        "#displaying top 5 rows after dropping the columns\n",
        "dataframe.head()"
      ],
      "execution_count": 128,
      "outputs": [
        {
          "output_type": "execute_result",
          "data": {
            "text/html": [
              "<div>\n",
              "<style scoped>\n",
              "    .dataframe tbody tr th:only-of-type {\n",
              "        vertical-align: middle;\n",
              "    }\n",
              "\n",
              "    .dataframe tbody tr th {\n",
              "        vertical-align: top;\n",
              "    }\n",
              "\n",
              "    .dataframe thead th {\n",
              "        text-align: right;\n",
              "    }\n",
              "</style>\n",
              "<table border=\"1\" class=\"dataframe\">\n",
              "  <thead>\n",
              "    <tr style=\"text-align: right;\">\n",
              "      <th></th>\n",
              "      <th>Make</th>\n",
              "      <th>Model</th>\n",
              "      <th>Year</th>\n",
              "      <th>Engine HP</th>\n",
              "      <th>Engine Cylinders</th>\n",
              "      <th>Transmission Type</th>\n",
              "      <th>Driven_Wheels</th>\n",
              "      <th>Vehicle Size</th>\n",
              "      <th>Vehicle Style</th>\n",
              "      <th>highway MPG</th>\n",
              "      <th>city mpg</th>\n",
              "      <th>Popularity</th>\n",
              "      <th>MSRP</th>\n",
              "    </tr>\n",
              "  </thead>\n",
              "  <tbody>\n",
              "    <tr>\n",
              "      <th>0</th>\n",
              "      <td>BMW</td>\n",
              "      <td>1 Series M</td>\n",
              "      <td>2011</td>\n",
              "      <td>335.0</td>\n",
              "      <td>6.0</td>\n",
              "      <td>MANUAL</td>\n",
              "      <td>rear wheel drive</td>\n",
              "      <td>Compact</td>\n",
              "      <td>Coupe</td>\n",
              "      <td>26</td>\n",
              "      <td>19</td>\n",
              "      <td>3916</td>\n",
              "      <td>46135</td>\n",
              "    </tr>\n",
              "    <tr>\n",
              "      <th>1</th>\n",
              "      <td>BMW</td>\n",
              "      <td>1 Series</td>\n",
              "      <td>2011</td>\n",
              "      <td>300.0</td>\n",
              "      <td>6.0</td>\n",
              "      <td>MANUAL</td>\n",
              "      <td>rear wheel drive</td>\n",
              "      <td>Compact</td>\n",
              "      <td>Convertible</td>\n",
              "      <td>28</td>\n",
              "      <td>19</td>\n",
              "      <td>3916</td>\n",
              "      <td>40650</td>\n",
              "    </tr>\n",
              "    <tr>\n",
              "      <th>2</th>\n",
              "      <td>BMW</td>\n",
              "      <td>1 Series</td>\n",
              "      <td>2011</td>\n",
              "      <td>300.0</td>\n",
              "      <td>6.0</td>\n",
              "      <td>MANUAL</td>\n",
              "      <td>rear wheel drive</td>\n",
              "      <td>Compact</td>\n",
              "      <td>Coupe</td>\n",
              "      <td>28</td>\n",
              "      <td>20</td>\n",
              "      <td>3916</td>\n",
              "      <td>36350</td>\n",
              "    </tr>\n",
              "    <tr>\n",
              "      <th>3</th>\n",
              "      <td>BMW</td>\n",
              "      <td>1 Series</td>\n",
              "      <td>2011</td>\n",
              "      <td>230.0</td>\n",
              "      <td>6.0</td>\n",
              "      <td>MANUAL</td>\n",
              "      <td>rear wheel drive</td>\n",
              "      <td>Compact</td>\n",
              "      <td>Coupe</td>\n",
              "      <td>28</td>\n",
              "      <td>18</td>\n",
              "      <td>3916</td>\n",
              "      <td>29450</td>\n",
              "    </tr>\n",
              "    <tr>\n",
              "      <th>4</th>\n",
              "      <td>BMW</td>\n",
              "      <td>1 Series</td>\n",
              "      <td>2011</td>\n",
              "      <td>230.0</td>\n",
              "      <td>6.0</td>\n",
              "      <td>MANUAL</td>\n",
              "      <td>rear wheel drive</td>\n",
              "      <td>Compact</td>\n",
              "      <td>Convertible</td>\n",
              "      <td>28</td>\n",
              "      <td>18</td>\n",
              "      <td>3916</td>\n",
              "      <td>34500</td>\n",
              "    </tr>\n",
              "  </tbody>\n",
              "</table>\n",
              "</div>"
            ],
            "text/plain": [
              "  Make       Model  Year  Engine HP  ...  highway MPG city mpg Popularity   MSRP\n",
              "0  BMW  1 Series M  2011      335.0  ...           26       19       3916  46135\n",
              "1  BMW    1 Series  2011      300.0  ...           28       19       3916  40650\n",
              "2  BMW    1 Series  2011      300.0  ...           28       20       3916  36350\n",
              "3  BMW    1 Series  2011      230.0  ...           28       18       3916  29450\n",
              "4  BMW    1 Series  2011      230.0  ...           28       18       3916  34500\n",
              "\n",
              "[5 rows x 13 columns]"
            ]
          },
          "metadata": {
            "tags": []
          },
          "execution_count": 128
        }
      ]
    },
    {
      "cell_type": "markdown",
      "metadata": {
        "id": "RoaaYNYTwKtU",
        "colab_type": "text"
      },
      "source": [
        "#3. Renaming the columns\n",
        "\n",
        "sometimes,column names will be confusing or not readable,so its a good practice to rename column names as it improves the readability of the dataset "
      ]
    },
    {
      "cell_type": "code",
      "metadata": {
        "id": "PeTaO4znwTaV",
        "colab_type": "code",
        "colab": {
          "base_uri": "https://localhost:8080/",
          "height": 408
        },
        "outputId": "545022d8-413d-4332-cead-23ccd649387b"
      },
      "source": [
        "#renaming the columns\n",
        "dataframe.rename(columns={\"Engine HP\": \"HP\",\"Engine Cylinders\": \"Cylinders\",\"Transmission Type\":\"Transmission\",\"Driven_Wheels\":\"Drive mode\",\"highway MPG\":\"MPG-H\",\"city mpg\":\"MPG-C\",\"MSRP\":\"price\"},inplace = True)\n",
        "#Displaying the first 5 rows after renaming columns \n",
        "dataframe.head()"
      ],
      "execution_count": 129,
      "outputs": [
        {
          "output_type": "execute_result",
          "data": {
            "text/html": [
              "<div>\n",
              "<style scoped>\n",
              "    .dataframe tbody tr th:only-of-type {\n",
              "        vertical-align: middle;\n",
              "    }\n",
              "\n",
              "    .dataframe tbody tr th {\n",
              "        vertical-align: top;\n",
              "    }\n",
              "\n",
              "    .dataframe thead th {\n",
              "        text-align: right;\n",
              "    }\n",
              "</style>\n",
              "<table border=\"1\" class=\"dataframe\">\n",
              "  <thead>\n",
              "    <tr style=\"text-align: right;\">\n",
              "      <th></th>\n",
              "      <th>Make</th>\n",
              "      <th>Model</th>\n",
              "      <th>Year</th>\n",
              "      <th>HP</th>\n",
              "      <th>Cylinders</th>\n",
              "      <th>Transmission</th>\n",
              "      <th>Drive mode</th>\n",
              "      <th>Vehicle Size</th>\n",
              "      <th>Vehicle Style</th>\n",
              "      <th>MPG-H</th>\n",
              "      <th>MPG-C</th>\n",
              "      <th>Popularity</th>\n",
              "      <th>price</th>\n",
              "    </tr>\n",
              "  </thead>\n",
              "  <tbody>\n",
              "    <tr>\n",
              "      <th>0</th>\n",
              "      <td>BMW</td>\n",
              "      <td>1 Series M</td>\n",
              "      <td>2011</td>\n",
              "      <td>335.0</td>\n",
              "      <td>6.0</td>\n",
              "      <td>MANUAL</td>\n",
              "      <td>rear wheel drive</td>\n",
              "      <td>Compact</td>\n",
              "      <td>Coupe</td>\n",
              "      <td>26</td>\n",
              "      <td>19</td>\n",
              "      <td>3916</td>\n",
              "      <td>46135</td>\n",
              "    </tr>\n",
              "    <tr>\n",
              "      <th>1</th>\n",
              "      <td>BMW</td>\n",
              "      <td>1 Series</td>\n",
              "      <td>2011</td>\n",
              "      <td>300.0</td>\n",
              "      <td>6.0</td>\n",
              "      <td>MANUAL</td>\n",
              "      <td>rear wheel drive</td>\n",
              "      <td>Compact</td>\n",
              "      <td>Convertible</td>\n",
              "      <td>28</td>\n",
              "      <td>19</td>\n",
              "      <td>3916</td>\n",
              "      <td>40650</td>\n",
              "    </tr>\n",
              "    <tr>\n",
              "      <th>2</th>\n",
              "      <td>BMW</td>\n",
              "      <td>1 Series</td>\n",
              "      <td>2011</td>\n",
              "      <td>300.0</td>\n",
              "      <td>6.0</td>\n",
              "      <td>MANUAL</td>\n",
              "      <td>rear wheel drive</td>\n",
              "      <td>Compact</td>\n",
              "      <td>Coupe</td>\n",
              "      <td>28</td>\n",
              "      <td>20</td>\n",
              "      <td>3916</td>\n",
              "      <td>36350</td>\n",
              "    </tr>\n",
              "    <tr>\n",
              "      <th>3</th>\n",
              "      <td>BMW</td>\n",
              "      <td>1 Series</td>\n",
              "      <td>2011</td>\n",
              "      <td>230.0</td>\n",
              "      <td>6.0</td>\n",
              "      <td>MANUAL</td>\n",
              "      <td>rear wheel drive</td>\n",
              "      <td>Compact</td>\n",
              "      <td>Coupe</td>\n",
              "      <td>28</td>\n",
              "      <td>18</td>\n",
              "      <td>3916</td>\n",
              "      <td>29450</td>\n",
              "    </tr>\n",
              "    <tr>\n",
              "      <th>4</th>\n",
              "      <td>BMW</td>\n",
              "      <td>1 Series</td>\n",
              "      <td>2011</td>\n",
              "      <td>230.0</td>\n",
              "      <td>6.0</td>\n",
              "      <td>MANUAL</td>\n",
              "      <td>rear wheel drive</td>\n",
              "      <td>Compact</td>\n",
              "      <td>Convertible</td>\n",
              "      <td>28</td>\n",
              "      <td>18</td>\n",
              "      <td>3916</td>\n",
              "      <td>34500</td>\n",
              "    </tr>\n",
              "  </tbody>\n",
              "</table>\n",
              "</div>"
            ],
            "text/plain": [
              "  Make       Model  Year     HP  ...  MPG-H MPG-C Popularity  price\n",
              "0  BMW  1 Series M  2011  335.0  ...     26    19       3916  46135\n",
              "1  BMW    1 Series  2011  300.0  ...     28    19       3916  40650\n",
              "2  BMW    1 Series  2011  300.0  ...     28    20       3916  36350\n",
              "3  BMW    1 Series  2011  230.0  ...     28    18       3916  29450\n",
              "4  BMW    1 Series  2011  230.0  ...     28    18       3916  34500\n",
              "\n",
              "[5 rows x 13 columns]"
            ]
          },
          "metadata": {
            "tags": []
          },
          "execution_count": 129
        }
      ]
    },
    {
      "cell_type": "markdown",
      "metadata": {
        "id": "e2FAYvFuGj9B",
        "colab_type": "text"
      },
      "source": [
        "#4.plotting graphs,checking for the outliers and removing them\n",
        "\n",
        "An outlier is a point or set of points that are different from other points. Sometimes they can be very high or very low. It's often a good idea to detect and remove the outliers. Because outliers are one of the primary reasons for resulting in a less accurate model. Often outliers can be seen with visualizations using a box plot. Shown below are the box plot of MSRP, Cylinders, Horsepower and EngineSize. Herein all the plots, you can find some points are outside the box they are none other than outliers. To know more about handling outliers, here is a resource towards data science.\n",
        "\n"
      ]
    },
    {
      "cell_type": "code",
      "metadata": {
        "id": "nTCQrmc_HI5l",
        "colab_type": "code",
        "colab": {
          "base_uri": "https://localhost:8080/",
          "height": 297
        },
        "outputId": "65b4c327-38a9-491e-83d9-fc1d5414661b"
      },
      "source": [
        "#boxplot graph for HP column\n",
        "sns.boxplot(x=dataframe['HP'])"
      ],
      "execution_count": 130,
      "outputs": [
        {
          "output_type": "execute_result",
          "data": {
            "text/plain": [
              "<matplotlib.axes._subplots.AxesSubplot at 0x7f985f14a9e8>"
            ]
          },
          "metadata": {
            "tags": []
          },
          "execution_count": 130
        },
        {
          "output_type": "display_data",
          "data": {
            "image/png": "[encoded data removed]",
            "text/plain": [
              "<Figure size 432x288 with 1 Axes>"
            ]
          },
          "metadata": {
            "tags": [],
            "needs_background": "light"
          }
        }
      ]
    },
    {
      "cell_type": "code",
      "metadata": {
        "id": "TAkJOjhvrUE0",
        "colab_type": "code",
        "colab": {
          "base_uri": "https://localhost:8080/",
          "height": 297
        },
        "outputId": "77b23a7b-e5a4-472b-db27-4aa315114984"
      },
      "source": [
        "#boxplot graph for MPG-H\n",
        "sns.boxplot(x=dataframe['MPG-H'])"
      ],
      "execution_count": 131,
      "outputs": [
        {
          "output_type": "execute_result",
          "data": {
            "text/plain": [
              "<matplotlib.axes._subplots.AxesSubplot at 0x7f985f11d198>"
            ]
          },
          "metadata": {
            "tags": []
          },
          "execution_count": 131
        },
        {
          "output_type": "display_data",
          "data": {
            "image/png": "[encoded data removed]",
            "text/plain": [
              "<Figure size 432x288 with 1 Axes>"
            ]
          },
          "metadata": {
            "tags": [],
            "needs_background": "light"
          }
        }
      ]
    },
    {
      "cell_type": "code",
      "metadata": {
        "id": "-80v57T6rZZm",
        "colab_type": "code",
        "colab": {
          "base_uri": "https://localhost:8080/",
          "height": 297
        },
        "outputId": "5b82af08-590a-403f-b09b-de5151f1cfa6"
      },
      "source": [
        "#boxplot graph for MPG-C column\n",
        "sns.boxplot(x=dataframe['MPG-C'])"
      ],
      "execution_count": 132,
      "outputs": [
        {
          "output_type": "execute_result",
          "data": {
            "text/plain": [
              "<matplotlib.axes._subplots.AxesSubplot at 0x7f985f07f240>"
            ]
          },
          "metadata": {
            "tags": []
          },
          "execution_count": 132
        },
        {
          "output_type": "display_data",
          "data": {
            "image/png": "[encoded data removed]",
            "text/plain": [
              "<Figure size 432x288 with 1 Axes>"
            ]
          },
          "metadata": {
            "tags": [],
            "needs_background": "light"
          }
        }
      ]
    },
    {
      "cell_type": "code",
      "metadata": {
        "id": "ySlarQBuNdPN",
        "colab_type": "code",
        "colab": {
          "base_uri": "https://localhost:8080/",
          "height": 297
        },
        "outputId": "de72cf7a-cd07-47e4-f34c-1acf4ee26985"
      },
      "source": [
        "#boxplot graph for for Popularity column\n",
        "sns.boxplot(x=dataframe['Popularity'])"
      ],
      "execution_count": 133,
      "outputs": [
        {
          "output_type": "execute_result",
          "data": {
            "text/plain": [
              "<matplotlib.axes._subplots.AxesSubplot at 0x7f985f0450b8>"
            ]
          },
          "metadata": {
            "tags": []
          },
          "execution_count": 133
        },
        {
          "output_type": "display_data",
          "data": {
            "image/png": "[encoded data removed]",
            "text/plain": [
              "<Figure size 432x288 with 1 Axes>"
            ]
          },
          "metadata": {
            "tags": [],
            "needs_background": "light"
          }
        }
      ]
    },
    {
      "cell_type": "code",
      "metadata": {
        "id": "U931oyl0rucM",
        "colab_type": "code",
        "colab": {
          "base_uri": "https://localhost:8080/",
          "height": 297
        },
        "outputId": "01f9e4a0-dd28-4d40-e854-6fdf429993ad"
      },
      "source": [
        "#boxplot graph for Cylinders column\n",
        "sns.boxplot(x=dataframe['Cylinders'])"
      ],
      "execution_count": 134,
      "outputs": [
        {
          "output_type": "execute_result",
          "data": {
            "text/plain": [
              "<matplotlib.axes._subplots.AxesSubplot at 0x7f985f039198>"
            ]
          },
          "metadata": {
            "tags": []
          },
          "execution_count": 134
        },
        {
          "output_type": "display_data",
          "data": {
            "image/png": "[encoded data removed]",
            "text/plain": [
              "<Figure size 432x288 with 1 Axes>"
            ]
          },
          "metadata": {
            "tags": [],
            "needs_background": "light"
          }
        }
      ]
    },
    {
      "cell_type": "code",
      "metadata": {
        "id": "m3sDF1Zyr3fE",
        "colab_type": "code",
        "colab": {
          "base_uri": "https://localhost:8080/",
          "height": 297
        },
        "outputId": "c652aee5-bdb9-44ca-ca6a-dfb4c22c7d0d"
      },
      "source": [
        "#boxplot graph for price column\n",
        "sns.boxplot(x=dataframe['price'])"
      ],
      "execution_count": 135,
      "outputs": [
        {
          "output_type": "execute_result",
          "data": {
            "text/plain": [
              "<matplotlib.axes._subplots.AxesSubplot at 0x7f985ef87cf8>"
            ]
          },
          "metadata": {
            "tags": []
          },
          "execution_count": 135
        },
        {
          "output_type": "display_data",
          "data": {
            "image/png": "[encoded data removed]",
            "text/plain": [
              "<Figure size 432x288 with 1 Axes>"
            ]
          },
          "metadata": {
            "tags": [],
            "needs_background": "light"
          }
        }
      ]
    },
    {
      "cell_type": "code",
      "metadata": {
        "id": "2iqkRWCYxxEp",
        "colab_type": "code",
        "colab": {
          "base_uri": "https://localhost:8080/",
          "height": 297
        },
        "outputId": "8b91475a-db4d-49c9-a981-2f85a4157c89"
      },
      "source": [
        "#boxplot graph for Year column\n",
        "sns.boxplot(x=dataframe['Year'])"
      ],
      "execution_count": 136,
      "outputs": [
        {
          "output_type": "execute_result",
          "data": {
            "text/plain": [
              "<matplotlib.axes._subplots.AxesSubplot at 0x7f985ef68f28>"
            ]
          },
          "metadata": {
            "tags": []
          },
          "execution_count": 136
        },
        {
          "output_type": "display_data",
          "data": {
            "image/png": "[encoded data removed]",
            "text/plain": [
              "<Figure size 432x288 with 1 Axes>"
            ]
          },
          "metadata": {
            "tags": [],
            "needs_background": "light"
          }
        }
      ]
    },
    {
      "cell_type": "code",
      "metadata": {
        "id": "2lLwIDAlsZMN",
        "colab_type": "code",
        "colab": {
          "base_uri": "https://localhost:8080/",
          "height": 163
        },
        "outputId": "1599ced6-e61c-4366-db5b-aa102150b79f"
      },
      "source": [
        "#checking for outliers \n",
        "Q1=dataframe.quantile(0.25)\n",
        "Q3=dataframe.quantile(0.75)\n",
        "IQR=Q3-Q1\n",
        "IQR"
      ],
      "execution_count": 137,
      "outputs": [
        {
          "output_type": "execute_result",
          "data": {
            "text/plain": [
              "Year              9.00\n",
              "HP              130.00\n",
              "Cylinders         2.00\n",
              "MPG-H             8.00\n",
              "MPG-C             6.00\n",
              "Popularity     1460.00\n",
              "price         21231.25\n",
              "dtype: float64"
            ]
          },
          "metadata": {
            "tags": []
          },
          "execution_count": 137
        }
      ]
    },
    {
      "cell_type": "code",
      "metadata": {
        "id": "ZQmeB-jat_Vj",
        "colab_type": "code",
        "colab": {
          "base_uri": "https://localhost:8080/",
          "height": 35
        },
        "outputId": "f594382a-33a7-4829-d2da-c17eee5f80cf"
      },
      "source": [
        "#removing the outlires\n",
        "dataframe=dataframe[~((dataframe<(Q1-1.5*IQR))|(dataframe>(Q3+1.5*IQR))).any(axis=1)]\n",
        "dataframe.shape"
      ],
      "execution_count": 138,
      "outputs": [
        {
          "output_type": "execute_result",
          "data": {
            "text/plain": [
              "(9084, 13)"
            ]
          },
          "metadata": {
            "tags": []
          },
          "execution_count": 138
        }
      ]
    },
    {
      "cell_type": "markdown",
      "metadata": {
        "id": "gPrSCFbvwpRT",
        "colab_type": "text"
      },
      "source": [
        "#5.checking for the duplicates,null values,missing values and removing them \n",
        " \n",
        "This data contains more than 10,000 lines and it may contain some duplicate data,so here we remove all the duplicated values from the dataset.\n",
        " \n",
        "And there will be some null, missing values in the dataset as it is very large dataset .so we will replace them with the median values or we can remove them as well but here we are going to fill the missing values with the median values so that our other data will not be effected"
      ]
    },
    {
      "cell_type": "code",
      "metadata": {
        "id": "E9aLyezbxmjj",
        "colab_type": "code",
        "colab": {
          "base_uri": "https://localhost:8080/",
          "height": 35
        },
        "outputId": "455c9c6d-cf6a-475c-e414-c6948b6fc1bf"
      },
      "source": [
        "#finding the duplicates in the given file\n",
        "duplicateDFROW_dataframe = dataframe[dataframe.duplicated(keep='last')]\n",
        "print(\"number of duplicate rows:\",duplicateDFROW_dataframe.shape)"
      ],
      "execution_count": 140,
      "outputs": [
        {
          "output_type": "stream",
          "text": [
            "number of duplicate rows: (529, 13)\n"
          ],
          "name": "stdout"
        }
      ]
    },
    {
      "cell_type": "code",
      "metadata": {
        "id": "y2DC-EDGnbPG",
        "colab_type": "code",
        "colab": {}
      },
      "source": [
        "#removing duplicated values\n",
        "dataframe.drop_duplicates(subset=None,keep='first',inplace=True)"
      ],
      "execution_count": 141,
      "outputs": []
    },
    {
      "cell_type": "code",
      "metadata": {
        "id": "PZ7qrhMQytbE",
        "colab_type": "code",
        "colab": {
          "base_uri": "https://localhost:8080/",
          "height": 35
        },
        "outputId": "e05ca66c-ef8d-464f-b76c-1eb9961e94aa"
      },
      "source": [
        "#finding number of rows and columns after removing duplicated values\n",
        "dataframe.shape"
      ],
      "execution_count": 142,
      "outputs": [
        {
          "output_type": "execute_result",
          "data": {
            "text/plain": [
              "(8555, 13)"
            ]
          },
          "metadata": {
            "tags": []
          },
          "execution_count": 142
        }
      ]
    },
    {
      "cell_type": "code",
      "metadata": {
        "id": "awDravTKy26K",
        "colab_type": "code",
        "colab": {
          "base_uri": "https://localhost:8080/",
          "height": 272
        },
        "outputId": "86d1822c-3d52-40ae-a1fe-a1698131eb38"
      },
      "source": [
        "#as checking for the null values\n",
        "print(dataframe.isnull().sum())"
      ],
      "execution_count": 143,
      "outputs": [
        {
          "output_type": "stream",
          "text": [
            "Make              0\n",
            "Model             0\n",
            "Year              0\n",
            "HP               11\n",
            "Cylinders        19\n",
            "Transmission      0\n",
            "Drive mode        0\n",
            "Vehicle Size      0\n",
            "Vehicle Style     0\n",
            "MPG-H             0\n",
            "MPG-C             0\n",
            "Popularity        0\n",
            "price             0\n",
            "dtype: int64\n"
          ],
          "name": "stdout"
        }
      ]
    },
    {
      "cell_type": "code",
      "metadata": {
        "id": "3IrNDLu4y13f",
        "colab_type": "code",
        "colab": {}
      },
      "source": [
        " # now we will just try to fill the NaN values\n",
        "dataframe.fillna(dataframe.median(),inplace=True)"
      ],
      "execution_count": 144,
      "outputs": []
    },
    {
      "cell_type": "code",
      "metadata": {
        "id": "1e_W7VRv1MAQ",
        "colab_type": "code",
        "colab": {
          "base_uri": "https://localhost:8080/",
          "height": 272
        },
        "outputId": "1163408e-d461-40bb-ece9-4f7320e912d5"
      },
      "source": [
        "#checking whether the null are available or not\n",
        "print(dataframe.isnull().sum())"
      ],
      "execution_count": 145,
      "outputs": [
        {
          "output_type": "stream",
          "text": [
            "Make             0\n",
            "Model            0\n",
            "Year             0\n",
            "HP               0\n",
            "Cylinders        0\n",
            "Transmission     0\n",
            "Drive mode       0\n",
            "Vehicle Size     0\n",
            "Vehicle Style    0\n",
            "MPG-H            0\n",
            "MPG-C            0\n",
            "Popularity       0\n",
            "price            0\n",
            "dtype: int64\n"
          ],
          "name": "stdout"
        }
      ]
    },
    {
      "cell_type": "code",
      "metadata": {
        "id": "g5eT3tW21oqs",
        "colab_type": "code",
        "colab": {
          "base_uri": "https://localhost:8080/",
          "height": 35
        },
        "outputId": "858d9774-efe4-4d18-fdb8-b1a038af48d0"
      },
      "source": [
        "dataframe.shape"
      ],
      "execution_count": 146,
      "outputs": [
        {
          "output_type": "execute_result",
          "data": {
            "text/plain": [
              "(8555, 13)"
            ]
          },
          "metadata": {
            "tags": []
          },
          "execution_count": 146
        }
      ]
    },
    {
      "cell_type": "markdown",
      "metadata": {
        "id": "ALtkfUrEmBHc",
        "colab_type": "text"
      },
      "source": [
        "#6.1 most represented cars in the dataset \n"
      ]
    },
    {
      "cell_type": "code",
      "metadata": {
        "id": "JiYTC8koRpoT",
        "colab_type": "code",
        "colab": {
          "base_uri": "https://localhost:8080/",
          "height": 607
        },
        "outputId": "c8316743-9445-46e1-b3bd-d5367cdbdb2f"
      },
      "source": [
        "#percentage of car per brand\n",
        "counts =dataframe['Make'].value_counts()*100/sum(dataframe['Make'].value_counts())\n",
        " \n",
        "#car brands\n",
        "popular_labels = counts.index[:]\n",
        " \n",
        "#plotting the graph\n",
        "plt.figure(figsize=(10,10))\n",
        "plt.barh(popular_labels,width=counts[:])\n",
        "plt.title('Top car brands')\n",
        "plt.show()"
      ],
      "execution_count": 147,
      "outputs": [
        {
          "output_type": "display_data",
          "data": {
            "image/png": "[encoded data removed]",
            "text/plain": [
              "<Figure size 720x720 with 1 Axes>"
            ]
          },
          "metadata": {
            "tags": [],
            "needs_background": "light"
          }
        }
      ]
    },
    {
      "cell_type": "markdown",
      "metadata": {
        "id": "ispQ42N9sb5z",
        "colab_type": "text"
      },
      "source": [
        "from the above graph we can say that most represented car brand from the dataset is chevrolet "
      ]
    },
    {
      "cell_type": "markdown",
      "metadata": {
        "id": "rzNVcUWns2Az",
        "colab_type": "text"
      },
      "source": [
        "#6.2 average price among the top car brands\n",
        "\n",
        "Now here,we will find the average price among the top car brands by taking the top 10 car brands as a sample"
      ]
    },
    {
      "cell_type": "code",
      "metadata": {
        "id": "vHtqAP4GN4LU",
        "colab_type": "code",
        "colab": {
          "base_uri": "https://localhost:8080/",
          "height": 163
        },
        "outputId": "0b203f65-1398-48f8-ac2d-6b7654a9e61e"
      },
      "source": [
        "prices=dataframe[['Make','price']].loc[(dataframe['Make']=='chevrolet')|\n",
        "                   (dataframe['Make']=='Ford')|\n",
        "                   (dataframe['Make']=='volkswagen')|\n",
        "                   (dataframe['Make']=='Toyata')|\n",
        "                   (dataframe['Make']=='Dodge')|\n",
        "                   (dataframe['Make']=='Nissan')|\n",
        "                   (dataframe['Make']=='GMC')|\n",
        "                   (dataframe['Make']=='Honda')|\n",
        "                   (dataframe['Make']=='Mazda')|\n",
        "                   (dataframe['Make']=='Suzuki')].groupby('Make').mean()\n",
        "print(prices)"
      ],
      "execution_count": 148,
      "outputs": [
        {
          "output_type": "stream",
          "text": [
            "               price\n",
            "Make                \n",
            "Dodge   26076.722353\n",
            "GMC     33261.400853\n",
            "Honda   27381.364611\n",
            "Mazda   20830.670025\n",
            "Nissan  28352.543860\n",
            "Suzuki  18168.241888\n"
          ],
          "name": "stdout"
        }
      ]
    },
    {
      "cell_type": "markdown",
      "metadata": {
        "id": "dTbAitxrwhXh",
        "colab_type": "text"
      },
      "source": [
        "#7.plotting correlation matrix\n",
        "\n",
        "A correlation matrix is an easy way to represnt the correlation coefficients between variables.Each cell represents the correlation between two variables"
      ]
    },
    {
      "cell_type": "code",
      "metadata": {
        "id": "HHRMGr4ojN9T",
        "colab_type": "code",
        "colab": {
          "base_uri": "https://localhost:8080/",
          "height": 258
        },
        "outputId": "7dd0a61f-53ec-442c-b2d8-eb44c9cd348e"
      },
      "source": [
        "dataframe.corr()"
      ],
      "execution_count": 149,
      "outputs": [
        {
          "output_type": "execute_result",
          "data": {
            "text/html": [
              "<div>\n",
              "<style scoped>\n",
              "    .dataframe tbody tr th:only-of-type {\n",
              "        vertical-align: middle;\n",
              "    }\n",
              "\n",
              "    .dataframe tbody tr th {\n",
              "        vertical-align: top;\n",
              "    }\n",
              "\n",
              "    .dataframe thead th {\n",
              "        text-align: right;\n",
              "    }\n",
              "</style>\n",
              "<table border=\"1\" class=\"dataframe\">\n",
              "  <thead>\n",
              "    <tr style=\"text-align: right;\">\n",
              "      <th></th>\n",
              "      <th>Year</th>\n",
              "      <th>HP</th>\n",
              "      <th>Cylinders</th>\n",
              "      <th>MPG-H</th>\n",
              "      <th>MPG-C</th>\n",
              "      <th>Popularity</th>\n",
              "      <th>price</th>\n",
              "    </tr>\n",
              "  </thead>\n",
              "  <tbody>\n",
              "    <tr>\n",
              "      <th>Year</th>\n",
              "      <td>1.000000</td>\n",
              "      <td>0.324008</td>\n",
              "      <td>-0.107934</td>\n",
              "      <td>0.373784</td>\n",
              "      <td>0.335924</td>\n",
              "      <td>0.200211</td>\n",
              "      <td>0.595736</td>\n",
              "    </tr>\n",
              "    <tr>\n",
              "      <th>HP</th>\n",
              "      <td>0.324008</td>\n",
              "      <td>1.000000</td>\n",
              "      <td>0.733180</td>\n",
              "      <td>-0.453253</td>\n",
              "      <td>-0.553998</td>\n",
              "      <td>0.093357</td>\n",
              "      <td>0.742351</td>\n",
              "    </tr>\n",
              "    <tr>\n",
              "      <th>Cylinders</th>\n",
              "      <td>-0.107934</td>\n",
              "      <td>0.733180</td>\n",
              "      <td>1.000000</td>\n",
              "      <td>-0.692201</td>\n",
              "      <td>-0.746940</td>\n",
              "      <td>0.011448</td>\n",
              "      <td>0.385476</td>\n",
              "    </tr>\n",
              "    <tr>\n",
              "      <th>MPG-H</th>\n",
              "      <td>0.373784</td>\n",
              "      <td>-0.453253</td>\n",
              "      <td>-0.692201</td>\n",
              "      <td>1.000000</td>\n",
              "      <td>0.937131</td>\n",
              "      <td>0.094207</td>\n",
              "      <td>-0.118474</td>\n",
              "    </tr>\n",
              "    <tr>\n",
              "      <th>MPG-C</th>\n",
              "      <td>0.335924</td>\n",
              "      <td>-0.553998</td>\n",
              "      <td>-0.746940</td>\n",
              "      <td>0.937131</td>\n",
              "      <td>1.000000</td>\n",
              "      <td>0.082990</td>\n",
              "      <td>-0.194673</td>\n",
              "    </tr>\n",
              "    <tr>\n",
              "      <th>Popularity</th>\n",
              "      <td>0.200211</td>\n",
              "      <td>0.093357</td>\n",
              "      <td>0.011448</td>\n",
              "      <td>0.094207</td>\n",
              "      <td>0.082990</td>\n",
              "      <td>1.000000</td>\n",
              "      <td>0.111515</td>\n",
              "    </tr>\n",
              "    <tr>\n",
              "      <th>price</th>\n",
              "      <td>0.595736</td>\n",
              "      <td>0.742351</td>\n",
              "      <td>0.385476</td>\n",
              "      <td>-0.118474</td>\n",
              "      <td>-0.194673</td>\n",
              "      <td>0.111515</td>\n",
              "      <td>1.000000</td>\n",
              "    </tr>\n",
              "  </tbody>\n",
              "</table>\n",
              "</div>"
            ],
            "text/plain": [
              "                Year        HP  Cylinders  ...     MPG-C  Popularity     price\n",
              "Year        1.000000  0.324008  -0.107934  ...  0.335924    0.200211  0.595736\n",
              "HP          0.324008  1.000000   0.733180  ... -0.553998    0.093357  0.742351\n",
              "Cylinders  -0.107934  0.733180   1.000000  ... -0.746940    0.011448  0.385476\n",
              "MPG-H       0.373784 -0.453253  -0.692201  ...  0.937131    0.094207 -0.118474\n",
              "MPG-C       0.335924 -0.553998  -0.746940  ...  1.000000    0.082990 -0.194673\n",
              "Popularity  0.200211  0.093357   0.011448  ...  0.082990    1.000000  0.111515\n",
              "price       0.595736  0.742351   0.385476  ... -0.194673    0.111515  1.000000\n",
              "\n",
              "[7 rows x 7 columns]"
            ]
          },
          "metadata": {
            "tags": []
          },
          "execution_count": 149
        }
      ]
    },
    {
      "cell_type": "code",
      "metadata": {
        "id": "mid_bXhXxTRB",
        "colab_type": "code",
        "colab": {
          "base_uri": "https://localhost:8080/",
          "height": 327
        },
        "outputId": "b780490f-21bd-456f-b29c-459900abf015"
      },
      "source": [
        "#plotting heatmap for correlating matrix\n",
        "corrMatrix = dataframe.corr()\n",
        "sns.heatmap(corrMatrix,annot=True)"
      ],
      "execution_count": 150,
      "outputs": [
        {
          "output_type": "execute_result",
          "data": {
            "text/plain": [
              "<matplotlib.axes._subplots.AxesSubplot at 0x7f985f10c588>"
            ]
          },
          "metadata": {
            "tags": []
          },
          "execution_count": 150
        },
        {
          "output_type": "display_data",
          "data": {
            "image/png": "[encoded data removed]",
            "text/plain": [
              "<Figure size 432x288 with 2 Axes>"
            ]
          },
          "metadata": {
            "tags": [],
            "needs_background": "light"
          }
        }
      ]
    },
    {
      "cell_type": "markdown",
      "metadata": {
        "id": "j8suqQRjksCQ",
        "colab_type": "text"
      },
      "source": [
        "#from the above heatmap we can conclude\n",
        "\n",
        "1. price is positively dependent(directly dependent) on HP(horse power) and Year.\n",
        "that means if HP increases the cost of the price will also be increased  \n",
        "\n",
        "2. Features of HP and cylinders are positively dependent on each other\n",
        "It means if HP increases the number of cylinders will also be increased\n",
        "\n",
        "3. MPG-H and MPG-C have strong negative correlation with cylinders\n",
        "It means that if MPG-C and MPG-H increases then number of cylinders will be decreased (they are inversly proporstional here)"
      ]
    },
    {
      "cell_type": "markdown",
      "metadata": {
        "id": "GTlnH6bBkXhc",
        "colab_type": "text"
      },
      "source": [
        "#8 plotting graphs\n",
        "\n",
        "graphical method is an easy way to representing the dataset and analye it  "
      ]
    },
    {
      "cell_type": "code",
      "metadata": {
        "id": "IoY2n8ozo_qc",
        "colab_type": "code",
        "colab": {
          "base_uri": "https://localhost:8080/",
          "height": 297
        },
        "outputId": "c1c4c045-7ef2-4e93-b25b-23e72399f4ae"
      },
      "source": [
        "#checking how price will be effected by the HP \n",
        "sns.scatterplot(dataframe['HP'],dataframe['price'])"
      ],
      "execution_count": 151,
      "outputs": [
        {
          "output_type": "execute_result",
          "data": {
            "text/plain": [
              "<matplotlib.axes._subplots.AxesSubplot at 0x7f985f116128>"
            ]
          },
          "metadata": {
            "tags": []
          },
          "execution_count": 151
        },
        {
          "output_type": "display_data",
          "data": {
            "image/png": "[encoded data removed]",
            "text/plain": [
              "<Figure size 432x288 with 1 Axes>"
            ]
          },
          "metadata": {
            "tags": [],
            "needs_background": "light"
          }
        }
      ]
    },
    {
      "cell_type": "code",
      "metadata": {
        "id": "5azT5sbLsK-A",
        "colab_type": "code",
        "colab": {
          "base_uri": "https://localhost:8080/",
          "height": 297
        },
        "outputId": "3e41ba01-1892-4fb2-c2e2-c912307fa512"
      },
      "source": [
        "sns.scatterplot(dataframe['Cylinders'],dataframe['price'])"
      ],
      "execution_count": 152,
      "outputs": [
        {
          "output_type": "execute_result",
          "data": {
            "text/plain": [
              "<matplotlib.axes._subplots.AxesSubplot at 0x7f985edef5c0>"
            ]
          },
          "metadata": {
            "tags": []
          },
          "execution_count": 152
        },
        {
          "output_type": "display_data",
          "data": {
            "image/png": "[encoded data removed]",
            "text/plain": [
              "<Figure size 432x288 with 1 Axes>"
            ]
          },
          "metadata": {
            "tags": [],
            "needs_background": "light"
          }
        }
      ]
    },
    {
      "cell_type": "code",
      "metadata": {
        "id": "iZLKdrUnsf8W",
        "colab_type": "code",
        "colab": {
          "base_uri": "https://localhost:8080/",
          "height": 297
        },
        "outputId": "effd6ee6-9d30-47e4-b866-74382b76fea1"
      },
      "source": [
        "sns.scatterplot(dataframe['Drive mode'],dataframe['price'])"
      ],
      "execution_count": 153,
      "outputs": [
        {
          "output_type": "execute_result",
          "data": {
            "text/plain": [
              "<matplotlib.axes._subplots.AxesSubplot at 0x7f985d514f28>"
            ]
          },
          "metadata": {
            "tags": []
          },
          "execution_count": 153
        },
        {
          "output_type": "display_data",
          "data": {
            "image/png": "[encoded data removed]",
            "text/plain": [
              "<Figure size 432x288 with 1 Axes>"
            ]
          },
          "metadata": {
            "tags": [],
            "needs_background": "light"
          }
        }
      ]
    },
    {
      "cell_type": "code",
      "metadata": {
        "id": "rJAgz3HKs1X_",
        "colab_type": "code",
        "colab": {
          "base_uri": "https://localhost:8080/",
          "height": 297
        },
        "outputId": "a57fab50-d65a-4acb-9fb4-45862b5a7d5d"
      },
      "source": [
        "sns.barplot(dataframe['Model'],dataframe['price'])"
      ],
      "execution_count": 154,
      "outputs": [
        {
          "output_type": "execute_result",
          "data": {
            "text/plain": [
              "<matplotlib.axes._subplots.AxesSubplot at 0x7f985d2f2fd0>"
            ]
          },
          "metadata": {
            "tags": []
          },
          "execution_count": 154
        },
        {
          "output_type": "display_data",
          "data": {
            "image/png": "[encoded data removed]",
            "text/plain": [
              "<Figure size 432x288 with 1 Axes>"
            ]
          },
          "metadata": {
            "tags": [],
            "needs_background": "light"
          }
        }
      ]
    },
    {
      "cell_type": "code",
      "metadata": {
        "id": "_1KSCxpJt0GG",
        "colab_type": "code",
        "colab": {
          "base_uri": "https://localhost:8080/",
          "height": 300
        },
        "outputId": "73e4a068-31d0-4800-ca02-e5ab24bb5426"
      },
      "source": [
        "sns.barplot(dataframe['MPG-C'],dataframe['price'])"
      ],
      "execution_count": 155,
      "outputs": [
        {
          "output_type": "execute_result",
          "data": {
            "text/plain": [
              "<matplotlib.axes._subplots.AxesSubplot at 0x7f985cc22be0>"
            ]
          },
          "metadata": {
            "tags": []
          },
          "execution_count": 155
        },
        {
          "output_type": "display_data",
          "data": {
            "image/png": "[encoded data removed]",
            "text/plain": [
              "<Figure size 432x288 with 1 Axes>"
            ]
          },
          "metadata": {
            "tags": [],
            "needs_background": "light"
          }
        }
      ]
    },
    {
      "cell_type": "code",
      "metadata": {
        "id": "Ycvce2tquD9m",
        "colab_type": "code",
        "colab": {
          "base_uri": "https://localhost:8080/",
          "height": 297
        },
        "outputId": "2872a3d3-6ed0-4811-b734-3176f44506d3"
      },
      "source": [
        "sns.barplot(dataframe['Popularity'],dataframe['price'])"
      ],
      "execution_count": 156,
      "outputs": [
        {
          "output_type": "execute_result",
          "data": {
            "text/plain": [
              "<matplotlib.axes._subplots.AxesSubplot at 0x7f985be1c128>"
            ]
          },
          "metadata": {
            "tags": []
          },
          "execution_count": 156
        },
        {
          "output_type": "display_data",
          "data": {
            "image/png": "[encoded data removed]",
            "text/plain": [
              "<Figure size 432x288 with 1 Axes>"
            ]
          },
          "metadata": {
            "tags": [],
            "needs_background": "light"
          }
        }
      ]
    },
    {
      "cell_type": "code",
      "metadata": {
        "id": "33QZqQTwwt5Z",
        "colab_type": "code",
        "colab": {
          "base_uri": "https://localhost:8080/",
          "height": 297
        },
        "outputId": "a099774f-076a-4e41-f0f1-2641c8bd897c"
      },
      "source": [
        "sns.lineplot(dataframe['Vehicle Size'],dataframe['price'])"
      ],
      "execution_count": 157,
      "outputs": [
        {
          "output_type": "execute_result",
          "data": {
            "text/plain": [
              "<matplotlib.axes._subplots.AxesSubplot at 0x7f985bcefb38>"
            ]
          },
          "metadata": {
            "tags": []
          },
          "execution_count": 157
        },
        {
          "output_type": "display_data",
          "data": {
            "image/png": "[encoded data removed]",
            "text/plain": [
              "<Figure size 432x288 with 1 Axes>"
            ]
          },
          "metadata": {
            "tags": [],
            "needs_background": "light"
          }
        }
      ]
    },
    {
      "cell_type": "code",
      "metadata": {
        "id": "MpfyJ7kb9843",
        "colab_type": "code",
        "colab": {
          "base_uri": "https://localhost:8080/",
          "height": 297
        },
        "outputId": "c880fefa-0bd5-4de8-b0de-bc06896d211f"
      },
      "source": [
        "sns.lineplot(dataframe ['Year'], dataframe ['price'])"
      ],
      "execution_count": 158,
      "outputs": [
        {
          "output_type": "execute_result",
          "data": {
            "text/plain": [
              "<matplotlib.axes._subplots.AxesSubplot at 0x7f985bca3630>"
            ]
          },
          "metadata": {
            "tags": []
          },
          "execution_count": 158
        },
        {
          "output_type": "display_data",
          "data": {
            "image/png": "[encoded data removed]",
            "text/plain": [
              "<Figure size 432x288 with 1 Axes>"
            ]
          },
          "metadata": {
            "tags": [],
            "needs_background": "light"
          }
        }
      ]
    },
    {
      "cell_type": "code",
      "metadata": {
        "id": "tso9Kx-6983C",
        "colab_type": "code",
        "colab": {
          "base_uri": "https://localhost:8080/",
          "height": 297
        },
        "outputId": "e6bfd740-ea1c-46d1-e760-81cafc632a01"
      },
      "source": [
        "sns.lineplot(dataframe['Vehicle Style'],dataframe['price'])"
      ],
      "execution_count": 159,
      "outputs": [
        {
          "output_type": "execute_result",
          "data": {
            "text/plain": [
              "<matplotlib.axes._subplots.AxesSubplot at 0x7f985bbc2eb8>"
            ]
          },
          "metadata": {
            "tags": []
          },
          "execution_count": 159
        },
        {
          "output_type": "display_data",
          "data": {
            "image/png": "[encoded data removed]",
            "text/plain": [
              "<Figure size 432x288 with 1 Axes>"
            ]
          },
          "metadata": {
            "tags": [],
            "needs_background": "light"
          }
        }
      ]
    },
    {
      "cell_type": "code",
      "metadata": {
        "id": "5FR5krUPtUpU",
        "colab_type": "code",
        "colab": {
          "base_uri": "https://localhost:8080/",
          "height": 297
        },
        "outputId": "bef34905-7b77-4e59-a6c6-4e926e747de4"
      },
      "source": [
        "sns.lineplot(dataframe['MPG-H'],dataframe['price'])"
      ],
      "execution_count": 160,
      "outputs": [
        {
          "output_type": "execute_result",
          "data": {
            "text/plain": [
              "<matplotlib.axes._subplots.AxesSubplot at 0x7f985bbad630>"
            ]
          },
          "metadata": {
            "tags": []
          },
          "execution_count": 160
        },
        {
          "output_type": "display_data",
          "data": {
            "image/png": "[encoded data removed]",
            "text/plain": [
              "<Figure size 432x288 with 1 Axes>"
            ]
          },
          "metadata": {
            "tags": [],
            "needs_background": "light"
          }
        }
      ]
    },
    {
      "cell_type": "markdown",
      "metadata": {
        "id": "Njo67REGqPmj",
        "colab_type": "text"
      },
      "source": [
        "**From the all above graphs we can conclude that**\n",
        "\n",
        "1. HP(horse power) shows directly proportional effect on the price. \n",
        "    i.e. if HP increases then price will also increase.\n",
        "2. MPG-C mostly shows inversly proportional effect on the price. \n",
        "    i.e. as MPG-C increases price decreases and vice versa.\n",
        "3. Vechile size shows the directly proportional relation on the price.\n",
        "    i.e. if Vechile size increases then price will also increase.\n",
        "4. As the year increases the price of the car will also increases"
      ]
    },
    {
      "cell_type": "markdown",
      "metadata": {
        "id": "kEtB03URuSMQ",
        "colab_type": "text"
      },
      "source": [
        "#9.1 Splitting the dataset\n",
        "\n",
        "Dataset spliting emerges as a necessity to eliminate bias to training data in Machine Algorithms.Here,we first perform oneHotEncoding before splitting the dataset so that the whole data will be converted to integer or float datatype from the object so that it will be easy to split and build the ML algorithms."
      ]
    },
    {
      "cell_type": "code",
      "metadata": {
        "id": "gVEekwCRKhuX",
        "colab_type": "code",
        "colab": {
          "base_uri": "https://localhost:8080/",
          "height": 72
        },
        "outputId": "0cb9dcf2-2b38-47f1-fab3-067422d30da0"
      },
      "source": [
        "k=dataframe.select_dtypes(exclude=[np.number]).columns\n",
        "k"
      ],
      "execution_count": 161,
      "outputs": [
        {
          "output_type": "execute_result",
          "data": {
            "text/plain": [
              "Index(['Make', 'Model', 'Transmission', 'Drive mode', 'Vehicle Size',\n",
              "       'Vehicle Style'],\n",
              "      dtype='object')"
            ]
          },
          "metadata": {
            "tags": []
          },
          "execution_count": 161
        }
      ]
    },
    {
      "cell_type": "code",
      "metadata": {
        "id": "enzlSlQKKmes",
        "colab_type": "code",
        "colab": {
          "base_uri": "https://localhost:8080/",
          "height": 399
        },
        "outputId": "ecf57aca-ce28-416e-8f91-9f7a29a8e32c"
      },
      "source": [
        "#importing the libraries required for oneHotEncoding\n",
        "from numpy import array\n",
        "from numpy import argmax\n",
        "from sklearn.preprocessing import LabelEncoder\n",
        "from sklearn.preprocessing import OneHotEncoder\n",
        "#creating the object instance\n",
        "label_enc = LabelEncoder()\n",
        "for i in k:\n",
        "  dataframe[i] = label_enc.fit_transform(dataframe[i])\n",
        "print('Label encoded data')\n",
        "dataframe.info()"
      ],
      "execution_count": 162,
      "outputs": [
        {
          "output_type": "stream",
          "text": [
            "Label encoded data\n",
            "<class 'pandas.core.frame.DataFrame'>\n",
            "Int64Index: 8555 entries, 0 to 11913\n",
            "Data columns (total 13 columns):\n",
            " #   Column         Non-Null Count  Dtype  \n",
            "---  ------         --------------  -----  \n",
            " 0   Make           8555 non-null   int64  \n",
            " 1   Model          8555 non-null   int64  \n",
            " 2   Year           8555 non-null   int64  \n",
            " 3   HP             8555 non-null   float64\n",
            " 4   Cylinders      8555 non-null   float64\n",
            " 5   Transmission   8555 non-null   int64  \n",
            " 6   Drive mode     8555 non-null   int64  \n",
            " 7   Vehicle Size   8555 non-null   int64  \n",
            " 8   Vehicle Style  8555 non-null   int64  \n",
            " 9   MPG-H          8555 non-null   int64  \n",
            " 10  MPG-C          8555 non-null   int64  \n",
            " 11  Popularity     8555 non-null   int64  \n",
            " 12  price          8555 non-null   int64  \n",
            "dtypes: float64(2), int64(11)\n",
            "memory usage: 1.2 MB\n"
          ],
          "name": "stdout"
        }
      ]
    },
    {
      "cell_type": "code",
      "metadata": {
        "id": "MRmKzUGtuvgI",
        "colab_type": "code",
        "colab": {}
      },
      "source": [
        "#assigning feature and target variables to X and Y\n",
        "X = dataframe[['Popularity','Year','HP','Cylinders','MPG-H','MPG-C','Make','Model','Transmission','Drive mode','Vehicle Size','Vehicle Style']].values\n",
        "Y=dataframe['price'].values"
      ],
      "execution_count": 163,
      "outputs": []
    },
    {
      "cell_type": "code",
      "metadata": {
        "id": "9Kf8cZBcvjDp",
        "colab_type": "code",
        "colab": {
          "base_uri": "https://localhost:8080/",
          "height": 54
        },
        "outputId": "2455a237-6ac6-48de-9ffc-9476f8216b10"
      },
      "source": [
        "# importing train_test_split from sklearn library\n",
        "from sklearn.model_selection import train_test_split\n",
        "# spliting the dataset into the training set and test set\n",
        "X_train,X_test,Y_train,Y_test=train_test_split(X,Y,test_size=0.2,random_state=0)\n",
        "print(X_train.shape,Y_train.shape)\n",
        "print(X_test.shape,Y_test.shape)"
      ],
      "execution_count": 164,
      "outputs": [
        {
          "output_type": "stream",
          "text": [
            "(6844, 12) (6844,)\n",
            "(1711, 12) (1711,)\n"
          ],
          "name": "stdout"
        }
      ]
    },
    {
      "cell_type": "markdown",
      "metadata": {
        "id": "v44toBHAv66I",
        "colab_type": "text"
      },
      "source": [
        "#9.2 Creating a ML model\n",
        "\n",
        "This Machine learning algorithms helps us in building a mathematical model based on sample data,known as \"training data\",which helps in making predictions without being explicitly programmed to do so."
      ]
    },
    {
      "cell_type": "markdown",
      "metadata": {
        "id": "LkDJIErfvmEn",
        "colab_type": "text"
      },
      "source": [
        "#linear regression"
      ]
    },
    {
      "cell_type": "code",
      "metadata": {
        "id": "Dn0cRu0LIwXo",
        "colab_type": "code",
        "colab": {
          "base_uri": "https://localhost:8080/",
          "height": 54
        },
        "outputId": "f6a752af-f8d9-43df-bc82-3956ffac4119"
      },
      "source": [
        "#importing linear regression class from sicit learn\n",
        "from sklearn.linear_model import LinearRegression\n",
        "\n",
        "#creating linear regression model using imported class\n",
        "regressor= LinearRegression()\n",
        "\n",
        "#train the model by applying fit function\n",
        "regressor.fit(X_train,Y_train)\n",
        "#predicting the output by applying the predict function on input\n",
        "Y_pred=regressor.predict(X_test)\n",
        "Y_pred"
      ],
      "execution_count": 165,
      "outputs": [
        {
          "output_type": "execute_result",
          "data": {
            "text/plain": [
              "array([30466.43129087, 13912.27871356, 36717.40400786, ...,\n",
              "       23038.12055603, 13237.95676995, 42459.14685578])"
            ]
          },
          "metadata": {
            "tags": []
          },
          "execution_count": 165
        }
      ]
    },
    {
      "cell_type": "code",
      "metadata": {
        "id": "i4gcYINBuHCG",
        "colab_type": "code",
        "colab": {
          "base_uri": "https://localhost:8080/",
          "height": 283
        },
        "outputId": "4612ecae-509c-44f3-9de4-b19f15b18b5c"
      },
      "source": [
        "#visualising the result using scatter plot\n",
        "plt.scatter(Y_test,Y_pred)"
      ],
      "execution_count": 166,
      "outputs": [
        {
          "output_type": "execute_result",
          "data": {
            "text/plain": [
              "<matplotlib.collections.PathCollection at 0x7f985babe390>"
            ]
          },
          "metadata": {
            "tags": []
          },
          "execution_count": 166
        },
        {
          "output_type": "display_data",
          "data": {
            "image/png": "[encoded data removed]",
            "text/plain": [
              "<Figure size 432x288 with 1 Axes>"
            ]
          },
          "metadata": {
            "tags": [],
            "needs_background": "light"
          }
        }
      ]
    },
    {
      "cell_type": "code",
      "metadata": {
        "id": "NjJbzhLCucoy",
        "colab_type": "code",
        "colab": {
          "base_uri": "https://localhost:8080/",
          "height": 295
        },
        "outputId": "5df0e5a5-2a0b-40d3-8b11-da24e7dc0fca"
      },
      "source": [
        "sns.distplot((Y_test-Y_pred),bins=50)"
      ],
      "execution_count": 167,
      "outputs": [
        {
          "output_type": "execute_result",
          "data": {
            "text/plain": [
              "<matplotlib.axes._subplots.AxesSubplot at 0x7f985ba7e278>"
            ]
          },
          "metadata": {
            "tags": []
          },
          "execution_count": 167
        },
        {
          "output_type": "display_data",
          "data": {
            "image/png": "[encoded data removed]",
            "text/plain": [
              "<Figure size 432x288 with 1 Axes>"
            ]
          },
          "metadata": {
            "tags": [],
            "needs_background": "light"
          }
        }
      ]
    },
    {
      "cell_type": "code",
      "metadata": {
        "id": "NcOuNeLveJVo",
        "colab_type": "code",
        "colab": {
          "base_uri": "https://localhost:8080/",
          "height": 90
        },
        "outputId": "99a1cf45-d7ca-4e5d-cebb-072c03430e81"
      },
      "source": [
        "#importing the required libraries.\n",
        "from sklearn.metrics import r2_score,mean_absolute_error,mean_squared_error\n",
        "import math\n",
        "#printing the values of r2,MAE,MSE,RMSE\n",
        "print('R-squared : ', r2_score(Y_test,Y_pred))\n",
        "print('MAE :' , mean_absolute_error(Y_test,Y_pred))\n",
        "print('MSE : ',mean_squared_error(Y_test,Y_pred))\n",
        "print('RMSE :',math.sqrt(mean_squared_error(Y_test,Y_pred)))"
      ],
      "execution_count": 168,
      "outputs": [
        {
          "output_type": "stream",
          "text": [
            "R-squared :  0.6998899442371787\n",
            "MAE : 6207.874426427791\n",
            "MSE :  65384382.711702846\n",
            "RMSE : 8086.061013355195\n"
          ],
          "name": "stdout"
        }
      ]
    },
    {
      "cell_type": "markdown",
      "metadata": {
        "id": "rg59O9I2TfRe",
        "colab_type": "text"
      },
      "source": [
        "#10. plotting different models"
      ]
    },
    {
      "cell_type": "markdown",
      "metadata": {
        "id": "qSr864fblf2a",
        "colab_type": "text"
      },
      "source": [
        "**10.1 Decision trees**"
      ]
    },
    {
      "cell_type": "code",
      "metadata": {
        "id": "zXP-81n_lfN4",
        "colab_type": "code",
        "colab": {}
      },
      "source": [
        "#importing DecisionTreeRegressor from sicit learn\n",
        "from sklearn.tree import DecisionTreeRegressor"
      ],
      "execution_count": 169,
      "outputs": []
    },
    {
      "cell_type": "code",
      "metadata": {
        "id": "UTqD9PZMlyKo",
        "colab_type": "code",
        "colab": {
          "base_uri": "https://localhost:8080/",
          "height": 126
        },
        "outputId": "cf922e30-830e-48fd-f1ba-aff22f5c5e75"
      },
      "source": [
        "#fit in the model\n",
        "model=DecisionTreeRegressor()\n",
        "model.fit(X_train,Y_train)\n"
      ],
      "execution_count": 170,
      "outputs": [
        {
          "output_type": "execute_result",
          "data": {
            "text/plain": [
              "DecisionTreeRegressor(ccp_alpha=0.0, criterion='mse', max_depth=None,\n",
              "                      max_features=None, max_leaf_nodes=None,\n",
              "                      min_impurity_decrease=0.0, min_impurity_split=None,\n",
              "                      min_samples_leaf=1, min_samples_split=2,\n",
              "                      min_weight_fraction_leaf=0.0, presort='deprecated',\n",
              "                      random_state=None, splitter='best')"
            ]
          },
          "metadata": {
            "tags": []
          },
          "execution_count": 170
        }
      ]
    },
    {
      "cell_type": "code",
      "metadata": {
        "id": "dhqwGE6U3A3R",
        "colab_type": "code",
        "colab": {
          "base_uri": "https://localhost:8080/",
          "height": 35
        },
        "outputId": "fda555f5-3825-41b9-9f02-71bc9355cfa2"
      },
      "source": [
        "#making the prediction\n",
        "Y_pred=model.predict(X_test)\n",
        "Y_pred"
      ],
      "execution_count": 171,
      "outputs": [
        {
          "output_type": "execute_result",
          "data": {
            "text/plain": [
              "array([32395. , 15589. , 31317.5, ..., 35585. , 17710. , 40460. ])"
            ]
          },
          "metadata": {
            "tags": []
          },
          "execution_count": 171
        }
      ]
    },
    {
      "cell_type": "code",
      "metadata": {
        "id": "yzZRAk1nvD9B",
        "colab_type": "code",
        "colab": {
          "base_uri": "https://localhost:8080/",
          "height": 283
        },
        "outputId": "f78f1be3-e74f-4185-813a-449723d1e19c"
      },
      "source": [
        "#visualising the result using scatter plot\n",
        "plt.scatter(Y_test,Y_pred)"
      ],
      "execution_count": 172,
      "outputs": [
        {
          "output_type": "execute_result",
          "data": {
            "text/plain": [
              "<matplotlib.collections.PathCollection at 0x7f985baeea90>"
            ]
          },
          "metadata": {
            "tags": []
          },
          "execution_count": 172
        },
        {
          "output_type": "display_data",
          "data": {
            "image/png": "[encoded data removed]",
            "text/plain": [
              "<Figure size 432x288 with 1 Axes>"
            ]
          },
          "metadata": {
            "tags": [],
            "needs_background": "light"
          }
        }
      ]
    },
    {
      "cell_type": "code",
      "metadata": {
        "id": "7kx4heqE_ge3",
        "colab_type": "code",
        "colab": {
          "base_uri": "https://localhost:8080/",
          "height": 287
        },
        "outputId": "31d34b12-466e-4045-ef58-a8fb80d1bec0"
      },
      "source": [
        "sns.distplot((Y_test-Y_pred),bins=50)"
      ],
      "execution_count": 173,
      "outputs": [
        {
          "output_type": "execute_result",
          "data": {
            "text/plain": [
              "<matplotlib.axes._subplots.AxesSubplot at 0x7f985b99dc88>"
            ]
          },
          "metadata": {
            "tags": []
          },
          "execution_count": 173
        },
        {
          "output_type": "display_data",
          "data": {
            "image/png": "[encoded data removed]",
            "text/plain": [
              "<Figure size 432x288 with 1 Axes>"
            ]
          },
          "metadata": {
            "tags": [],
            "needs_background": "light"
          }
        }
      ]
    },
    {
      "cell_type": "code",
      "metadata": {
        "id": "cm4qe5XVxRcd",
        "colab_type": "code",
        "colab": {
          "base_uri": "https://localhost:8080/",
          "height": 90
        },
        "outputId": "267e10b4-8b09-4438-d9d6-b28123b11f3c"
      },
      "source": [
        "#importing the required libraries.\n",
        "from sklearn.metrics import r2_score,mean_absolute_error,mean_squared_error\n",
        "import math\n",
        "#printing the values of r2,MAE,MSE,RMSE\n",
        "print('R-squared : ', r2_score(Y_test,Y_pred))\n",
        "print('MAE :', mean_absolute_error(Y_test,Y_pred))\n",
        "print('MSE : ',mean_squared_error(Y_test,Y_pred))\n",
        "print('RMSE:',math.sqrt(mean_squared_error(Y_test,Y_pred)))"
      ],
      "execution_count": 174,
      "outputs": [
        {
          "output_type": "stream",
          "text": [
            "R-squared :  0.9246093218536389\n",
            "MAE : 2747.6438365031295\n",
            "MSE :  16425217.543234196\n",
            "RMSE: 4052.8036645307893\n"
          ],
          "name": "stdout"
        }
      ]
    },
    {
      "cell_type": "markdown",
      "metadata": {
        "id": "Hq-YRcE6oscE",
        "colab_type": "text"
      },
      "source": [
        "**10.2 Random Forest**"
      ]
    },
    {
      "cell_type": "code",
      "metadata": {
        "id": "u0Of1B9qotTo",
        "colab_type": "code",
        "colab": {
          "base_uri": "https://localhost:8080/",
          "height": 54
        },
        "outputId": "a99706fe-2a39-4185-b436-88a89f4abfa1"
      },
      "source": [
        "#importing RandomForestregressor from sicit learn\n",
        "from sklearn.ensemble import RandomForestRegressor\n",
        "#fit in the model\n",
        "reg = RandomForestRegressor(n_estimators=300,random_state=0)\n",
        "reg.fit(X_train,Y_train)\n",
        "#predicting the result by applying predict function on input\n",
        "Y_pred = reg.predict(X_test)\n",
        "Y_pred"
      ],
      "execution_count": 175,
      "outputs": [
        {
          "output_type": "execute_result",
          "data": {
            "text/plain": [
              "array([32970.67285714, 15593.31674603, 31270.71894231, ...,\n",
              "       35017.39939214, 16838.28775794, 40449.71593254])"
            ]
          },
          "metadata": {
            "tags": []
          },
          "execution_count": 175
        }
      ]
    },
    {
      "cell_type": "code",
      "metadata": {
        "id": "QxmUt8ATwPsT",
        "colab_type": "code",
        "colab": {
          "base_uri": "https://localhost:8080/",
          "height": 283
        },
        "outputId": "f792d7b8-91e6-4d17-8bb0-2727047aabc5"
      },
      "source": [
        "#visualising the prediction using scatter plot\n",
        "plt.scatter(Y_test,Y_pred)"
      ],
      "execution_count": 176,
      "outputs": [
        {
          "output_type": "execute_result",
          "data": {
            "text/plain": [
              "<matplotlib.collections.PathCollection at 0x7f985b8b7ba8>"
            ]
          },
          "metadata": {
            "tags": []
          },
          "execution_count": 176
        },
        {
          "output_type": "display_data",
          "data": {
            "image/png": "[encoded data removed]",
            "text/plain": [
              "<Figure size 432x288 with 1 Axes>"
            ]
          },
          "metadata": {
            "tags": [],
            "needs_background": "light"
          }
        }
      ]
    },
    {
      "cell_type": "code",
      "metadata": {
        "id": "Wd_WTqlUwcG0",
        "colab_type": "code",
        "colab": {
          "base_uri": "https://localhost:8080/",
          "height": 283
        },
        "outputId": "3c5080a6-c9be-42eb-eb07-988285742f75"
      },
      "source": [
        "sns.distplot((Y_test-Y_pred),bins=50)"
      ],
      "execution_count": 177,
      "outputs": [
        {
          "output_type": "execute_result",
          "data": {
            "text/plain": [
              "<matplotlib.axes._subplots.AxesSubplot at 0x7f985b8e8e10>"
            ]
          },
          "metadata": {
            "tags": []
          },
          "execution_count": 177
        },
        {
          "output_type": "display_data",
          "data": {
            "image/png": "[encoded data removed]",
            "text/plain": [
              "<Figure size 432x288 with 1 Axes>"
            ]
          },
          "metadata": {
            "tags": [],
            "needs_background": "light"
          }
        }
      ]
    },
    {
      "cell_type": "code",
      "metadata": {
        "id": "46yCFaoMz4Lz",
        "colab_type": "code",
        "colab": {
          "base_uri": "https://localhost:8080/",
          "height": 90
        },
        "outputId": "f952fa4e-841b-457a-c82a-5ce2b459e3d1"
      },
      "source": [
        "#importing the required libraries.\n",
        "from sklearn.metrics import r2_score,mean_absolute_error,mean_squared_error\n",
        "import math\n",
        "#printing the values of r2,MAE,MSE,RMSE\n",
        "print('R-squared : ', r2_score(Y_test,Y_pred))\n",
        "print('MAE :' , mean_absolute_error(Y_test,Y_pred))\n",
        "print('MSE : ',mean_squared_error(Y_test,Y_pred))\n",
        "print('RMSE :',math.sqrt(mean_squared_error(Y_test,Y_pred)))"
      ],
      "execution_count": 178,
      "outputs": [
        {
          "output_type": "stream",
          "text": [
            "R-squared :  0.9447062827613182\n",
            "MAE : 2495.937294420766\n",
            "MSE :  12046732.523830798\n",
            "RMSE : 3470.8403195524274\n"
          ],
          "name": "stdout"
        }
      ]
    },
    {
      "cell_type": "markdown",
      "metadata": {
        "id": "dVwmvx5AyC_I",
        "colab_type": "text"
      },
      "source": [
        "**10.3 Naive Bayes** "
      ]
    },
    {
      "cell_type": "code",
      "metadata": {
        "id": "3K9HZsqiyzvq",
        "colab_type": "code",
        "colab": {
          "base_uri": "https://localhost:8080/",
          "height": 35
        },
        "outputId": "8b7497a4-aeaa-4351-ca08-e5079f6d2869"
      },
      "source": [
        "#importing GaussianNB from sicit learn\n",
        "from sklearn.naive_bayes import GaussianNB\n",
        "#fit in model\n",
        "classifier = GaussianNB()\n",
        "classifier.fit(X_train,Y_train)\n"
      ],
      "execution_count": 181,
      "outputs": [
        {
          "output_type": "execute_result",
          "data": {
            "text/plain": [
              "GaussianNB(priors=None, var_smoothing=1e-09)"
            ]
          },
          "metadata": {
            "tags": []
          },
          "execution_count": 181
        }
      ]
    },
    {
      "cell_type": "code",
      "metadata": {
        "id": "Loo3xqpt4eSi",
        "colab_type": "code",
        "colab": {
          "base_uri": "https://localhost:8080/",
          "height": 35
        },
        "outputId": "30dd44d3-a3af-41ab-a1b6-adbc1f74b6e9"
      },
      "source": [
        "#making the prediction\n",
        "Y_pred = classifier.predict(X_test)\n",
        "Y_pred"
      ],
      "execution_count": 182,
      "outputs": [
        {
          "output_type": "execute_result",
          "data": {
            "text/plain": [
              "array([28200, 15589, 29535, ..., 47975, 17710, 37495])"
            ]
          },
          "metadata": {
            "tags": []
          },
          "execution_count": 182
        }
      ]
    },
    {
      "cell_type": "code",
      "metadata": {
        "id": "OkbGRYiY5bBK",
        "colab_type": "code",
        "colab": {
          "base_uri": "https://localhost:8080/",
          "height": 283
        },
        "outputId": "36bc86f9-7fdf-4f8b-f1b6-f1b5708fdd42"
      },
      "source": [
        "#visualising the result using scatter plot\n",
        "plt.scatter(Y_test,Y_pred)"
      ],
      "execution_count": 183,
      "outputs": [
        {
          "output_type": "execute_result",
          "data": {
            "text/plain": [
              "<matplotlib.collections.PathCollection at 0x7f985b720fd0>"
            ]
          },
          "metadata": {
            "tags": []
          },
          "execution_count": 183
        },
        {
          "output_type": "display_data",
          "data": {
            "image/png": "[encoded data removed]",
            "text/plain": [
              "<Figure size 432x288 with 1 Axes>"
            ]
          },
          "metadata": {
            "tags": [],
            "needs_background": "light"
          }
        }
      ]
    },
    {
      "cell_type": "code",
      "metadata": {
        "id": "VdMX3awQ52R0",
        "colab_type": "code",
        "colab": {
          "base_uri": "https://localhost:8080/",
          "height": 295
        },
        "outputId": "91920ec6-8afa-4c1d-c65d-0e0fe136763a"
      },
      "source": [
        "sns.distplot((Y_test,Y_pred),bins=50)"
      ],
      "execution_count": 184,
      "outputs": [
        {
          "output_type": "execute_result",
          "data": {
            "text/plain": [
              "<matplotlib.axes._subplots.AxesSubplot at 0x7f985b6ee4e0>"
            ]
          },
          "metadata": {
            "tags": []
          },
          "execution_count": 184
        },
        {
          "output_type": "display_data",
          "data": {
            "image/png": "[encoded data removed]",
            "text/plain": [
              "<Figure size 432x288 with 1 Axes>"
            ]
          },
          "metadata": {
            "tags": [],
            "needs_background": "light"
          }
        }
      ]
    },
    {
      "cell_type": "code",
      "metadata": {
        "id": "SRVHd9an6qnu",
        "colab_type": "code",
        "colab": {
          "base_uri": "https://localhost:8080/",
          "height": 35
        },
        "outputId": "6e796032-1241-4fdd-fa47-2117b5a2a687"
      },
      "source": [
        "#importing accuracy_score from sicit learn\n",
        "from sklearn.metrics import accuracy_score\n",
        "#finding the accuracy\n",
        "accuracy_score(Y_test,Y_pred)"
      ],
      "execution_count": 185,
      "outputs": [
        {
          "output_type": "execute_result",
          "data": {
            "text/plain": [
              "0.015195791934541203"
            ]
          },
          "metadata": {
            "tags": []
          },
          "execution_count": 185
        }
      ]
    },
    {
      "cell_type": "code",
      "metadata": {
        "id": "IKoDr83r6OAr",
        "colab_type": "code",
        "colab": {
          "base_uri": "https://localhost:8080/",
          "height": 90
        },
        "outputId": "69795d1a-87c4-43d5-dfa8-61f2f441acac"
      },
      "source": [
        "#importing the required libraries.\n",
        "from sklearn.metrics import r2_score,mean_absolute_error,mean_squared_error\n",
        "import math\n",
        "#printing the values of r2,MAE,MSE,RMSE\n",
        "print('R-squared : ', r2_score(Y_test,Y_pred))\n",
        "print('MAE :' , mean_absolute_error(Y_test,Y_pred))\n",
        "print('MSE : ',mean_squared_error(Y_test,Y_pred))\n",
        "print('RMSE :',math.sqrt(mean_squared_error(Y_test,Y_pred)))"
      ],
      "execution_count": 186,
      "outputs": [
        {
          "output_type": "stream",
          "text": [
            "R-squared :  0.706656984138528\n",
            "MAE : 5077.43658679135\n",
            "MSE :  63910061.14786675\n",
            "RMSE : 7994.376845500014\n"
          ],
          "name": "stdout"
        }
      ]
    },
    {
      "cell_type": "markdown",
      "metadata": {
        "id": "e3-EtByR9LiJ",
        "colab_type": "text"
      },
      "source": [
        "**10.4 support vector regression**"
      ]
    },
    {
      "cell_type": "code",
      "metadata": {
        "id": "-KQ2LKhF8nTx",
        "colab_type": "code",
        "colab": {
          "base_uri": "https://localhost:8080/",
          "height": 54
        },
        "outputId": "3a6da496-e8ca-40ed-cdc2-40eaf06f517e"
      },
      "source": [
        "##import the SVR model from scikit learn\n",
        "from sklearn.svm import SVR\n",
        "#fit in a model\n",
        "regressor=SVR(kernel='rbf')\n",
        "regressor.fit(X_train,Y_train)\n"
      ],
      "execution_count": 187,
      "outputs": [
        {
          "output_type": "execute_result",
          "data": {
            "text/plain": [
              "SVR(C=1.0, cache_size=200, coef0=0.0, degree=3, epsilon=0.1, gamma='scale',\n",
              "    kernel='rbf', max_iter=-1, shrinking=True, tol=0.001, verbose=False)"
            ]
          },
          "metadata": {
            "tags": []
          },
          "execution_count": 187
        }
      ]
    },
    {
      "cell_type": "code",
      "metadata": {
        "id": "jkecczRB-NBt",
        "colab_type": "code",
        "colab": {
          "base_uri": "https://localhost:8080/",
          "height": 54
        },
        "outputId": "127d6380-3d50-49f5-d296-914c6ea8a452"
      },
      "source": [
        "#making a prediction\n",
        "Y_pred=regressor.predict(X_test)\n",
        "Y_pred"
      ],
      "execution_count": 188,
      "outputs": [
        {
          "output_type": "execute_result",
          "data": {
            "text/plain": [
              "array([29765.23375399, 29748.54069859, 29768.37864294, ...,\n",
              "       29804.81556421, 29738.13292996, 29807.49118041])"
            ]
          },
          "metadata": {
            "tags": []
          },
          "execution_count": 188
        }
      ]
    },
    {
      "cell_type": "code",
      "metadata": {
        "id": "fBz8hq4F-85q",
        "colab_type": "code",
        "colab": {
          "base_uri": "https://localhost:8080/",
          "height": 283
        },
        "outputId": "01df8e5f-2656-4719-d63f-9f839289487d"
      },
      "source": [
        "#scatter plot graph\n",
        "plt.scatter(Y_test,Y_pred)"
      ],
      "execution_count": 189,
      "outputs": [
        {
          "output_type": "execute_result",
          "data": {
            "text/plain": [
              "<matplotlib.collections.PathCollection at 0x7f985b5e14e0>"
            ]
          },
          "metadata": {
            "tags": []
          },
          "execution_count": 189
        },
        {
          "output_type": "display_data",
          "data": {
            "image/png": "[encoded data removed]",
            "text/plain": [
              "<Figure size 432x288 with 1 Axes>"
            ]
          },
          "metadata": {
            "tags": [],
            "needs_background": "light"
          }
        }
      ]
    },
    {
      "cell_type": "code",
      "metadata": {
        "id": "JcU43btwG_tO",
        "colab_type": "code",
        "colab": {
          "base_uri": "https://localhost:8080/",
          "height": 295
        },
        "outputId": "aae6669d-f764-4296-baf7-0fc8358894c0"
      },
      "source": [
        "sns.distplot((Y_test-Y_pred),bins=50)"
      ],
      "execution_count": 190,
      "outputs": [
        {
          "output_type": "execute_result",
          "data": {
            "text/plain": [
              "<matplotlib.axes._subplots.AxesSubplot at 0x7f985b597748>"
            ]
          },
          "metadata": {
            "tags": []
          },
          "execution_count": 190
        },
        {
          "output_type": "display_data",
          "data": {
            "image/png": "[encoded data removed]",
            "text/plain": [
              "<Figure size 432x288 with 1 Axes>"
            ]
          },
          "metadata": {
            "tags": [],
            "needs_background": "light"
          }
        }
      ]
    },
    {
      "cell_type": "code",
      "metadata": {
        "id": "bRIvjP4VHepd",
        "colab_type": "code",
        "colab": {
          "base_uri": "https://localhost:8080/",
          "height": 90
        },
        "outputId": "635c4097-9e6d-4d22-e95e-f012babc8bf0"
      },
      "source": [
        "#importing the required libraries.\n",
        "from sklearn.metrics import r2_score,mean_absolute_error,mean_squared_error\n",
        "import math\n",
        "#printing the values of r2,MAE,MSE,RMSE\n",
        "print('R-squared : ', r2_score(Y_test,Y_pred))\n",
        "print('MAE :' , mean_absolute_error(Y_test,Y_pred))\n",
        "print('MSE : ',mean_squared_error(Y_test,Y_pred))\n",
        "print('RMSE :',math.sqrt(mean_squared_error(Y_test,Y_pred)))"
      ],
      "execution_count": 191,
      "outputs": [
        {
          "output_type": "stream",
          "text": [
            "R-squared :  -0.0016866509895046011\n",
            "MAE : 11242.394332566055\n",
            "MSE :  218235484.24269566\n",
            "RMSE : 14772.795410574658\n"
          ],
          "name": "stdout"
        }
      ]
    },
    {
      "cell_type": "markdown",
      "metadata": {
        "id": "f_vDlNXiNqw3",
        "colab_type": "text"
      },
      "source": [
        "**10.5 KNN**"
      ]
    },
    {
      "cell_type": "code",
      "metadata": {
        "id": "l8Z3ATJiN23t",
        "colab_type": "code",
        "colab": {}
      },
      "source": [
        "#import the KNN model from scikit learn\n",
        "from sklearn.neighbors import KNeighborsClassifier"
      ],
      "execution_count": 209,
      "outputs": []
    },
    {
      "cell_type": "code",
      "metadata": {
        "id": "PL9_Dj_IOXmt",
        "colab_type": "code",
        "colab": {}
      },
      "source": [
        "#init the model\n",
        "#minkowski = distance formula and p=2 power 2 of distformula\n",
        "knn=KNeighborsClassifier(n_neighbors=5,metric='minkowski',p=3)\n"
      ],
      "execution_count": 210,
      "outputs": []
    },
    {
      "cell_type": "code",
      "metadata": {
        "id": "NWxFWRX7QY0h",
        "colab_type": "code",
        "colab": {
          "base_uri": "https://localhost:8080/",
          "height": 72
        },
        "outputId": "d00c7f8a-536b-43cb-efe5-61ca9ce5a3cb"
      },
      "source": [
        "#fit the model\n",
        "knn.fit(X_train,Y_train)"
      ],
      "execution_count": 211,
      "outputs": [
        {
          "output_type": "execute_result",
          "data": {
            "text/plain": [
              "KNeighborsClassifier(algorithm='auto', leaf_size=30, metric='minkowski',\n",
              "                     metric_params=None, n_jobs=None, n_neighbors=5, p=3,\n",
              "                     weights='uniform')"
            ]
          },
          "metadata": {
            "tags": []
          },
          "execution_count": 211
        }
      ]
    },
    {
      "cell_type": "code",
      "metadata": {
        "id": "RkgX_MT6RMaN",
        "colab_type": "code",
        "colab": {
          "base_uri": "https://localhost:8080/",
          "height": 35
        },
        "outputId": "d0154dbd-aa65-4b3b-a09f-e8e057298935"
      },
      "source": [
        "#making the prediction\n",
        "Y_pred=knn.predict(X_test)\n",
        "Y_pred"
      ],
      "execution_count": 212,
      "outputs": [
        {
          "output_type": "execute_result",
          "data": {
            "text/plain": [
              "array([32395, 15099, 29535, ..., 32215, 14435, 37495])"
            ]
          },
          "metadata": {
            "tags": []
          },
          "execution_count": 212
        }
      ]
    },
    {
      "cell_type": "code",
      "metadata": {
        "id": "KIvbo4lnRY5M",
        "colab_type": "code",
        "colab": {
          "base_uri": "https://localhost:8080/",
          "height": 145
        },
        "outputId": "8a6311fc-e5e3-4c24-e9a1-d1721f45d581"
      },
      "source": [
        "#confusion matrix\n",
        "from sklearn.metrics import confusion_matrix\n",
        "cm=confusion_matrix(Y_test,Y_pred)\n",
        "cm"
      ],
      "execution_count": 213,
      "outputs": [
        {
          "output_type": "execute_result",
          "data": {
            "text/plain": [
              "array([[58,  0,  0, ...,  0,  0,  0],\n",
              "       [ 1,  0,  0, ...,  0,  0,  0],\n",
              "       [ 1,  0,  0, ...,  0,  0,  0],\n",
              "       ...,\n",
              "       [ 0,  0,  0, ...,  0,  0,  0],\n",
              "       [ 0,  0,  0, ...,  0,  0,  0],\n",
              "       [ 0,  0,  0, ...,  0,  0,  0]])"
            ]
          },
          "metadata": {
            "tags": []
          },
          "execution_count": 213
        }
      ]
    },
    {
      "cell_type": "code",
      "metadata": {
        "id": "XNShRC9FR7za",
        "colab_type": "code",
        "colab": {
          "base_uri": "https://localhost:8080/",
          "height": 35
        },
        "outputId": "7e83b074-248a-4df3-f114-2e063ab9d502"
      },
      "source": [
        "#importing accuracy_score from sicit learn\n",
        "from sklearn.metrics import accuracy_score\n",
        "#finding the accuracy\n",
        "accuracy_score(Y_test,Y_pred)"
      ],
      "execution_count": 214,
      "outputs": [
        {
          "output_type": "execute_result",
          "data": {
            "text/plain": [
              "0.05143191116306254"
            ]
          },
          "metadata": {
            "tags": []
          },
          "execution_count": 214
        }
      ]
    },
    {
      "cell_type": "code",
      "metadata": {
        "id": "QAtC5H6bSOg2",
        "colab_type": "code",
        "colab": {
          "base_uri": "https://localhost:8080/",
          "height": 283
        },
        "outputId": "68ca4563-fc61-48db-d4ef-02e3692a6f6f"
      },
      "source": [
        "#visualising the result using scatter plot\n",
        "plt.scatter(Y_test,Y_pred)"
      ],
      "execution_count": 216,
      "outputs": [
        {
          "output_type": "execute_result",
          "data": {
            "text/plain": [
              "<matplotlib.collections.PathCollection at 0x7f985360ebe0>"
            ]
          },
          "metadata": {
            "tags": []
          },
          "execution_count": 216
        },
        {
          "output_type": "display_data",
          "data": {
            "image/png": "[encoded data removed]",
            "text/plain": [
              "<Figure size 432x288 with 1 Axes>"
            ]
          },
          "metadata": {
            "tags": [],
            "needs_background": "light"
          }
        }
      ]
    },
    {
      "cell_type": "code",
      "metadata": {
        "id": "Jh9mSEMhwowv",
        "colab_type": "code",
        "colab": {
          "base_uri": "https://localhost:8080/",
          "height": 286
        },
        "outputId": "a923e5c2-aee3-4b38-f44f-4d60a6f76418"
      },
      "source": [
        "sns.distplot((Y_test-Y_pred),bins=50)"
      ],
      "execution_count": 217,
      "outputs": [
        {
          "output_type": "execute_result",
          "data": {
            "text/plain": [
              "<matplotlib.axes._subplots.AxesSubplot at 0x7f98535dd898>"
            ]
          },
          "metadata": {
            "tags": []
          },
          "execution_count": 217
        },
        {
          "output_type": "display_data",
          "data": {
            "image/png": "[encoded data removed]",
            "text/plain": [
              "<Figure size 432x288 with 1 Axes>"
            ]
          },
          "metadata": {
            "tags": [],
            "needs_background": "light"
          }
        }
      ]
    },
    {
      "cell_type": "code",
      "metadata": {
        "id": "CwklN4HyTFb_",
        "colab_type": "code",
        "colab": {
          "base_uri": "https://localhost:8080/",
          "height": 90
        },
        "outputId": "2e7ac9a7-b363-4654-efd2-09575b73b6fa"
      },
      "source": [
        "#importing the required libraries.\n",
        "from sklearn.metrics import r2_score,mean_absolute_error,mean_squared_error\n",
        "import math\n",
        "#printing the values of r2,MAE,MSE,RMSE\n",
        "print('R-squared : ', r2_score(Y_test,Y_pred))\n",
        "print('MAE :' , mean_absolute_error(Y_test,Y_pred))\n",
        "print('MSE : ',mean_squared_error(Y_test,Y_pred))\n",
        "print('RMSE :',math.sqrt(mean_squared_error(Y_test,Y_pred)))"
      ],
      "execution_count": 218,
      "outputs": [
        {
          "output_type": "stream",
          "text": [
            "R-squared :  0.7066943672987009\n",
            "MAE : 4459.580362361192\n",
            "MSE :  63901916.55289304\n",
            "RMSE : 7993.867434032982\n"
          ],
          "name": "stdout"
        }
      ]
    },
    {
      "cell_type": "markdown",
      "metadata": {
        "id": "qPkbnKRLq3nk",
        "colab_type": "text"
      },
      "source": [
        "**10.6 polynomial regression**"
      ]
    },
    {
      "cell_type": "code",
      "metadata": {
        "id": "jNOGtrixU1aJ",
        "colab_type": "code",
        "colab": {
          "base_uri": "https://localhost:8080/",
          "height": 35
        },
        "outputId": "3c74cc6f-5885-4c30-cfee-7130ceee9d76"
      },
      "source": [
        "#import the polynomialFeatures model from scikit learn\n",
        "from sklearn.preprocessing import PolynomialFeatures\n",
        "reg = PolynomialFeatures(degree = 2)\n",
        "X_poly = reg.fit_transform(X_train)\n",
        "reg.fit(X_poly, Y_train)\n",
        "lin_reg = LinearRegression()\n",
        "lin_reg.fit(X_poly, Y_train)"
      ],
      "execution_count": 219,
      "outputs": [
        {
          "output_type": "execute_result",
          "data": {
            "text/plain": [
              "LinearRegression(copy_X=True, fit_intercept=True, n_jobs=None, normalize=False)"
            ]
          },
          "metadata": {
            "tags": []
          },
          "execution_count": 219
        }
      ]
    },
    {
      "cell_type": "code",
      "metadata": {
        "id": "0rNkFdimsRh2",
        "colab_type": "code",
        "colab": {
          "base_uri": "https://localhost:8080/",
          "height": 54
        },
        "outputId": "dd2e9309-11c5-43f6-a979-b4db02a1ced6"
      },
      "source": [
        "#making the predictions\n",
        "Y_pred=lin_reg.predict(reg.fit_transform(X_test))\n",
        "Y_pred"
      ],
      "execution_count": 224,
      "outputs": [
        {
          "output_type": "execute_result",
          "data": {
            "text/plain": [
              "array([31445.97960734, 20547.79827952, 31805.03286833, ...,\n",
              "       31230.04699957, 16628.24046081, 42215.38108152])"
            ]
          },
          "metadata": {
            "tags": []
          },
          "execution_count": 224
        }
      ]
    },
    {
      "cell_type": "code",
      "metadata": {
        "id": "GGALVb_wsRV4",
        "colab_type": "code",
        "colab": {
          "base_uri": "https://localhost:8080/",
          "height": 283
        },
        "outputId": "cfb61ca3-d1d5-4450-a457-8dd8b74dcc3a"
      },
      "source": [
        "##visualising the result using scatter plot\n",
        "plt.scatter(Y_test,Y_pred)"
      ],
      "execution_count": 225,
      "outputs": [
        {
          "output_type": "execute_result",
          "data": {
            "text/plain": [
              "<matplotlib.collections.PathCollection at 0x7f985333eac8>"
            ]
          },
          "metadata": {
            "tags": []
          },
          "execution_count": 225
        },
        {
          "output_type": "display_data",
          "data": {
            "image/png": "[encoded data removed]",
            "text/plain": [
              "<Figure size 432x288 with 1 Axes>"
            ]
          },
          "metadata": {
            "tags": [],
            "needs_background": "light"
          }
        }
      ]
    },
    {
      "cell_type": "code",
      "metadata": {
        "id": "W1VdkVgYwSs2",
        "colab_type": "code",
        "colab": {
          "base_uri": "https://localhost:8080/",
          "height": 295
        },
        "outputId": "212a8b7c-2ce7-479a-8c9a-b3e1d1aaf3df"
      },
      "source": [
        "sns.distplot((Y_test-Y_pred),bins=50)"
      ],
      "execution_count": 226,
      "outputs": [
        {
          "output_type": "execute_result",
          "data": {
            "text/plain": [
              "<matplotlib.axes._subplots.AxesSubplot at 0x7f9853475a58>"
            ]
          },
          "metadata": {
            "tags": []
          },
          "execution_count": 226
        },
        {
          "output_type": "display_data",
          "data": {
            "image/png": "[encoded data removed]",
            "text/plain": [
              "<Figure size 432x288 with 1 Axes>"
            ]
          },
          "metadata": {
            "tags": [],
            "needs_background": "light"
          }
        }
      ]
    },
    {
      "cell_type": "code",
      "metadata": {
        "id": "DcbFKY5xw-0f",
        "colab_type": "code",
        "colab": {
          "base_uri": "https://localhost:8080/",
          "height": 90
        },
        "outputId": "2836bca3-0335-468c-d121-3e05dba54e88"
      },
      "source": [
        "#importing the required libraries.\n",
        "from sklearn.metrics import r2_score,mean_absolute_error,mean_squared_error\n",
        "import math\n",
        "#printing the values of r2,MAE,MSE,RMSE\n",
        "print('R-squared : ', r2_score(Y_test,Y_pred))\n",
        "print('MAE :' , mean_absolute_error(Y_test,Y_pred))\n",
        "print('MSE : ',mean_squared_error(Y_test,Y_pred))\n",
        "print('RMSE :',math.sqrt(mean_squared_error(Y_test,Y_pred)))"
      ],
      "execution_count": 227,
      "outputs": [
        {
          "output_type": "stream",
          "text": [
            "R-squared :  0.804678887501864\n",
            "MAE : 4908.637581840968\n",
            "MSE :  42554223.445770346\n",
            "RMSE : 6523.359828015801\n"
          ],
          "name": "stdout"
        }
      ]
    },
    {
      "cell_type": "markdown",
      "metadata": {
        "id": "M4jjmxNeWlHr",
        "colab_type": "text"
      },
      "source": [
        "# Insights\n",
        "\n",
        "from the all above ML models we can conclude that\n",
        "\n",
        "1.we have got large R-square value for RandomForest model.\n",
        "\n",
        "2.we have got least RMSE value for RandomForest\n",
        "\n",
        "3.we have got least MAE value for RandomForest\n",
        "\n",
        "4.we have got least MSE value for RandomForest\n",
        "\n",
        "from the above four conditions we can say that errors are less and R-squared values are high in RandomForest.\n",
        "\n",
        "*RandomForest is the best suitable model for this EDA on cars dataset* "
      ]
    },
    {
      "cell_type": "markdown",
      "metadata": {
        "id": "XPmbGioQaAOj",
        "colab_type": "text"
      },
      "source": [
        "Let us see the models one by one which suits the best and so on\n",
        "\n",
        "1.RandomForest\n",
        "\n",
        "2.Decision Trees\n",
        "\n",
        "3.polynomial regression\n",
        "\n",
        "4.KNN(K- nearest neighbours)\n",
        "\n",
        "5.Naive Bayes\n",
        "\n",
        "6.Linear regression\n",
        "\n",
        "7.SVR"
      ]
    }
  ]
}